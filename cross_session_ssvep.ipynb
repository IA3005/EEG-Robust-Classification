{
 "cells": [
  {
   "cell_type": "code",
   "execution_count": 1,
   "metadata": {},
   "outputs": [],
   "source": [
    "%matplotlib inline"
   ]
  },
  {
   "cell_type": "markdown",
   "metadata": {},
   "source": [
    "\n",
    "# Cross Session SSVEP\n"
   ]
  },
  {
   "cell_type": "code",
   "execution_count": 2,
   "metadata": {},
   "outputs": [],
   "source": [
    "# Authors: Sylvain Chevallier <sylvain.chevallier@uvsq.fr>\n",
    "#\n",
    "# License: BSD (3-clause)\n",
    "\n",
    "import warnings\n",
    "\n",
    "import matplotlib.pyplot as plt\n",
    "import seaborn as sns\n",
    "from classifiers import MDM\n",
    "#from classifiers import TangentSpace\n",
    "from pyriemann.estimation import Covariances\n",
    "#from pyriemann.classification import MDM\n",
    "from pyriemann.tangentspace import TangentSpace\n",
    "\n",
    "#from estimation import Covariances\n",
    "import numpy as np\n",
    "from sklearn.pipeline import make_pipeline\n",
    "from sklearn.linear_model import LogisticRegression\n",
    "\n",
    "import moabb\n",
    "from moabb.datasets import MAMEM3, SSVEPExo\n",
    "from moabb.evaluations import WithinSessionEvaluation\n",
    "from moabb.paradigms import SSVEP,FilterBankSSVEP\n",
    "from moabb.pipelines import ExtendedSSVEPSignal\n",
    "\n",
    "\n",
    "warnings.simplefilter(action=\"ignore\", category=FutureWarning)\n",
    "warnings.simplefilter(action=\"ignore\", category=RuntimeWarning)\n",
    "moabb.set_log_level(\"info\")"
   ]
  },
  {
   "cell_type": "markdown",
   "metadata": {},
   "source": [
    "## Loading dataset\n",
    "\n",
    "\n"
   ]
  },
  {
   "cell_type": "code",
   "execution_count": 3,
   "metadata": {},
   "outputs": [
    {
     "name": "stdout",
     "output_type": "stream",
     "text": [
      "[1, 2, 3, 4, 5, 6, 7, 8, 9, 10, 11, 12]\n"
     ]
    }
   ],
   "source": [
    "dataset = SSVEPExo()\n",
    "#dataset.subject_list=dataset.subject_list[11:]\n",
    "print(dataset.subject_list)\n"
   ]
  },
  {
   "cell_type": "code",
   "execution_count": 4,
   "metadata": {},
   "outputs": [
    {
     "data": {
      "text/plain": [
       "[2, 4]"
      ]
     },
     "execution_count": 4,
     "metadata": {},
     "output_type": "execute_result"
    }
   ],
   "source": [
    "dataset.interval"
   ]
  },
  {
   "cell_type": "code",
   "execution_count": 5,
   "metadata": {},
   "outputs": [
    {
     "data": {
      "text/plain": [
       "{1: {'session_0': {'run_0': <Raw | subject01_run1_raw.fif, 9 x 57024 (222.7 s), ~3.9 MB, data loaded>,\n",
       "   'run_1': <Raw | subject01_run2_raw.fif, 9 x 78144 (305.2 s), ~5.4 MB, data loaded>}},\n",
       " 2: {'session_0': {'run_0': <Raw | subject02_run1_raw.fif, 9 x 71712 (280.1 s), ~4.9 MB, data loaded>,\n",
       "   'run_1': <Raw | subject02_run2_raw.fif, 9 x 59456 (232.2 s), ~4.1 MB, data loaded>}},\n",
       " 3: {'session_0': {'run_0': <Raw | subject03_run1_raw.fif, 9 x 63040 (246.2 s), ~4.3 MB, data loaded>,\n",
       "   'run_1': <Raw | subject03_run2_raw.fif, 9 x 59040 (230.6 s), ~4.1 MB, data loaded>}},\n",
       " 4: {'session_0': {'run_0': <Raw | subject04_run1_raw.fif, 9 x 63648 (248.6 s), ~4.4 MB, data loaded>,\n",
       "   'run_1': <Raw | subject04_run2_raw.fif, 9 x 57120 (223.1 s), ~3.9 MB, data loaded>}},\n",
       " 5: {'session_0': {'run_0': <Raw | subject05_run1_raw.fif, 9 x 58848 (229.9 s), ~4.1 MB, data loaded>,\n",
       "   'run_1': <Raw | subject05_run2_raw.fif, 9 x 68576 (267.9 s), ~4.7 MB, data loaded>}},\n",
       " 6: {'session_0': {'run_0': <Raw | subject06_run1_raw.fif, 9 x 75296 (294.1 s), ~5.2 MB, data loaded>,\n",
       "   'run_1': <Raw | subject06_run2_raw.fif, 9 x 64544 (252.1 s), ~4.4 MB, data loaded>}},\n",
       " 7: {'session_0': {'run_0': <Raw | subject07_run1_raw.fif, 9 x 63040 (246.2 s), ~4.3 MB, data loaded>,\n",
       "   'run_1': <Raw | subject07_run2_raw.fif, 9 x 55200 (215.6 s), ~3.8 MB, data loaded>,\n",
       "   'run_2': <Raw | subject07_run3_raw.fif, 9 x 82752 (323.2 s), ~5.7 MB, data loaded>}},\n",
       " 8: {'session_0': {'run_0': <Raw | subject08_run1_raw.fif, 9 x 75392 (294.5 s), ~5.2 MB, data loaded>,\n",
       "   'run_1': <Raw | subject08_run2_raw.fif, 9 x 75968 (296.7 s), ~5.2 MB, data loaded>}},\n",
       " 9: {'session_0': {'run_0': <Raw | subject09_run1_raw.fif, 9 x 75936 (296.6 s), ~5.2 MB, data loaded>,\n",
       "   'run_1': <Raw | subject09_run2_raw.fif, 9 x 75712 (295.7 s), ~5.2 MB, data loaded>}},\n",
       " 10: {'session_0': {'run_0': <Raw | subject10_run1_raw.fif, 9 x 110240 (430.6 s), ~7.6 MB, data loaded>,\n",
       "   'run_1': <Raw | subject10_run2_raw.fif, 9 x 75584 (295.2 s), ~5.2 MB, data loaded>,\n",
       "   'run_2': <Raw | subject10_run3_raw.fif, 9 x 78240 (305.6 s), ~5.4 MB, data loaded>,\n",
       "   'run_3': <Raw | subject10_run4_raw.fif, 9 x 76896 (300.4 s), ~5.3 MB, data loaded>}},\n",
       " 11: {'session_0': {'run_0': <Raw | subject11_run1_raw.fif, 9 x 75456 (294.7 s), ~5.2 MB, data loaded>,\n",
       "   'run_1': <Raw | subject11_run2_raw.fif, 9 x 76416 (298.5 s), ~5.3 MB, data loaded>}},\n",
       " 12: {'session_0': {'run_0': <Raw | subject12_run1_raw.fif, 9 x 90528 (353.6 s), ~6.2 MB, data loaded>,\n",
       "   'run_1': <Raw | subject12_run2_raw.fif, 9 x 92384 (360.9 s), ~6.4 MB, data loaded>,\n",
       "   'run_2': <Raw | subject12_run3_raw.fif, 9 x 89696 (350.4 s), ~6.2 MB, data loaded>,\n",
       "   'run_3': <Raw | subject12_run4_raw.fif, 9 x 192224 (750.9 s), ~13.2 MB, data loaded>,\n",
       "   'run_4': <Raw | subject12_run5_raw.fif, 9 x 148544 (580.2 s), ~10.2 MB, data loaded>}}}"
      ]
     },
     "execution_count": 5,
     "metadata": {},
     "output_type": "execute_result"
    }
   ],
   "source": [
    "records = dataset.get_data()\n",
    "records"
   ]
  },
  {
   "cell_type": "markdown",
   "metadata": {},
   "source": [
    "## Choose paradigm\n",
    "\n"
   ]
  },
  {
   "cell_type": "code",
   "execution_count": 6,
   "metadata": {},
   "outputs": [
    {
     "name": "stderr",
     "output_type": "stream",
     "text": [
      "2021-07-02 09:16:18,374 WARNING MainThread moabb.paradigms.ssvep Choosing the first 4 classes from all possible events\n"
     ]
    }
   ],
   "source": [
    "paradigm_fb = FilterBankSSVEP(filters=None, n_classes=4)"
   ]
  },
  {
   "cell_type": "code",
   "execution_count": 7,
   "metadata": {},
   "outputs": [
    {
     "name": "stdout",
     "output_type": "stream",
     "text": [
      "{'13': 2, '17': 3, '21': 4, 'rest': 1}\n"
     ]
    }
   ],
   "source": [
    "freqs = paradigm_fb.used_events(dataset)\n",
    "print(freqs)"
   ]
  },
  {
   "cell_type": "code",
   "execution_count": 8,
   "metadata": {},
   "outputs": [],
   "source": [
    "X, y, metadata = paradigm_fb.get_data(dataset)"
   ]
  },
  {
   "cell_type": "code",
   "execution_count": 9,
   "metadata": {},
   "outputs": [],
   "source": [
    "dictio={\"rest\":0,\"13\":1,\"21\":2,\"17\":3}\n",
    "y_= [dictio[y[l]] for l in range(len(y))]\n",
    "y =np.asarray(y_)"
   ]
  },
  {
   "cell_type": "code",
   "execution_count": 10,
   "metadata": {},
   "outputs": [
    {
     "name": "stdout",
     "output_type": "stream",
     "text": [
      "(960, 8, 513, 3)\n",
      "(960,)\n"
     ]
    }
   ],
   "source": [
    "print(X.shape)\n",
    "print(y.shape)"
   ]
  },
  {
   "cell_type": "code",
   "execution_count": 11,
   "metadata": {},
   "outputs": [],
   "source": [
    "signals = []\n",
    "labels=[]\n",
    "n_sessions=[]\n",
    "n = 0\n",
    "for subject in dataset.subject_list :\n",
    "    n_session = len(records[subject]['session_0'])\n",
    "    n_sessions.append(n_session)\n",
    "    m = n+32*n_session\n",
    "    signals.append(X[n:m])\n",
    "    labels.append(y[n:m])\n",
    "    n= m "
   ]
  },
  {
   "cell_type": "code",
   "execution_count": 12,
   "metadata": {},
   "outputs": [
    {
     "name": "stdout",
     "output_type": "stream",
     "text": [
      "True\n"
     ]
    }
   ],
   "source": [
    "print(len(signals)==len(labels))"
   ]
  },
  {
   "cell_type": "markdown",
   "metadata": {},
   "source": [
    "## Create pipelines\n",
    "\n",
    "Use a Canonical Correlation Analysis classifier\n",
    "\n"
   ]
  },
  {
   "cell_type": "code",
   "execution_count": 14,
   "metadata": {},
   "outputs": [],
   "source": [
    "pipeline = {}\n",
    "pipeline[\"MDM\"] = make_pipeline(\n",
    "    ExtendedSSVEPSignal(),\n",
    "    Covariances(),\n",
    "    MDM()\n",
    ")\n",
    "\n",
    "pipeline[\"TS+LogReg\"] = make_pipeline(\n",
    "    ExtendedSSVEPSignal(),\n",
    "    Covariances(),\n",
    "    TangentSpace(),\n",
    "    LogisticRegression()\n",
    ")"
   ]
  },
  {
   "cell_type": "markdown",
   "metadata": {},
   "source": [
    "## Evaluation\n",
    "\n",
    "The evaluation will return a dataframe containing a single AUC score for\n",
    "each subject / session of the dataset, and for each pipeline.\n",
    "\n"
   ]
  },
  {
   "cell_type": "code",
   "execution_count": 13,
   "metadata": {},
   "outputs": [],
   "source": [
    "def split(signal,n_session):\n",
    "    trains_idx,tests_idx = [],[]\n",
    "    for i in range(n_session):\n",
    "        test_idx = list(range(i*32,(i+1)*32))\n",
    "        train_idx=[]\n",
    "        for j in range(signal.shape[0]):\n",
    "            if not (j in test_idx):\n",
    "                train_idx.append(j)\n",
    "        trains_idx.append(train_idx)\n",
    "        tests_idx.append(test_idx)\n",
    "    return trains_idx,tests_idx\n"
   ]
  },
  {
   "cell_type": "code",
   "execution_count": 15,
   "metadata": {},
   "outputs": [
    {
     "name": "stdout",
     "output_type": "stream",
     "text": [
      "MDM\n",
      "TS+LogReg\n"
     ]
    }
   ],
   "source": [
    "results = {\"subject\":[],\"score\":[],\"train samples\":[], \"test samples\":[], \"pipeline\":[]}\n",
    "for k in pipeline.keys():\n",
    "    clf= pipeline[k]\n",
    "    print(k)\n",
    "    for i in range(len(dataset.subject_list)):\n",
    "        subject = dataset.subject_list[i]\n",
    "        accs= []\n",
    "        signal,n_session,label = signals[i],n_sessions[i],labels[i]\n",
    "        trains_idx,tests_idx = split(signal,n_session)\n",
    "        for train_idx,test_idx in zip(trains_idx,tests_idx):\n",
    "            X_train,X_test = signal[train_idx],signal[test_idx]\n",
    "            y_train,y_test = label[train_idx],label[test_idx]\n",
    "            clf.fit(X_train,y_train)\n",
    "            preds= clf.predict(X_test)\n",
    "            acc = np.mean(preds==y_test)\n",
    "            accs.append(acc)\n",
    "        results[\"subject\"].append(subject)\n",
    "        results[\"score\"].append(np.mean(accs))\n",
    "        results[\"pipeline\"].append(k)\n",
    "        results[\"train samples\"].append(len(train_idx))\n",
    "        results[\"test samples\"].append(len(test_idx))\n",
    "      "
   ]
  },
  {
   "cell_type": "markdown",
   "metadata": {},
   "source": [
    "## Plot Results\n",
    "\n",
    "Here we plot the results, indicating the score for each session and subject\n",
    "\n"
   ]
  },
  {
   "cell_type": "code",
   "execution_count": 16,
   "metadata": {},
   "outputs": [
    {
     "data": {
      "text/html": [
       "<div>\n",
       "<style scoped>\n",
       "    .dataframe tbody tr th:only-of-type {\n",
       "        vertical-align: middle;\n",
       "    }\n",
       "\n",
       "    .dataframe tbody tr th {\n",
       "        vertical-align: top;\n",
       "    }\n",
       "\n",
       "    .dataframe thead th {\n",
       "        text-align: right;\n",
       "    }\n",
       "</style>\n",
       "<table border=\"1\" class=\"dataframe\">\n",
       "  <thead>\n",
       "    <tr style=\"text-align: right;\">\n",
       "      <th></th>\n",
       "      <th>subject</th>\n",
       "      <th>score</th>\n",
       "      <th>train samples</th>\n",
       "      <th>test samples</th>\n",
       "      <th>pipeline</th>\n",
       "    </tr>\n",
       "  </thead>\n",
       "  <tbody>\n",
       "    <tr>\n",
       "      <th>0</th>\n",
       "      <td>1</td>\n",
       "      <td>0.437500</td>\n",
       "      <td>32</td>\n",
       "      <td>32</td>\n",
       "      <td>MDM</td>\n",
       "    </tr>\n",
       "    <tr>\n",
       "      <th>1</th>\n",
       "      <td>2</td>\n",
       "      <td>0.578125</td>\n",
       "      <td>32</td>\n",
       "      <td>32</td>\n",
       "      <td>MDM</td>\n",
       "    </tr>\n",
       "    <tr>\n",
       "      <th>2</th>\n",
       "      <td>3</td>\n",
       "      <td>0.843750</td>\n",
       "      <td>32</td>\n",
       "      <td>32</td>\n",
       "      <td>MDM</td>\n",
       "    </tr>\n",
       "    <tr>\n",
       "      <th>3</th>\n",
       "      <td>4</td>\n",
       "      <td>0.625000</td>\n",
       "      <td>32</td>\n",
       "      <td>32</td>\n",
       "      <td>MDM</td>\n",
       "    </tr>\n",
       "    <tr>\n",
       "      <th>4</th>\n",
       "      <td>5</td>\n",
       "      <td>0.484375</td>\n",
       "      <td>32</td>\n",
       "      <td>32</td>\n",
       "      <td>MDM</td>\n",
       "    </tr>\n",
       "    <tr>\n",
       "      <th>5</th>\n",
       "      <td>6</td>\n",
       "      <td>0.609375</td>\n",
       "      <td>32</td>\n",
       "      <td>32</td>\n",
       "      <td>MDM</td>\n",
       "    </tr>\n",
       "    <tr>\n",
       "      <th>6</th>\n",
       "      <td>7</td>\n",
       "      <td>0.645833</td>\n",
       "      <td>64</td>\n",
       "      <td>32</td>\n",
       "      <td>MDM</td>\n",
       "    </tr>\n",
       "    <tr>\n",
       "      <th>7</th>\n",
       "      <td>8</td>\n",
       "      <td>0.640625</td>\n",
       "      <td>32</td>\n",
       "      <td>32</td>\n",
       "      <td>MDM</td>\n",
       "    </tr>\n",
       "    <tr>\n",
       "      <th>8</th>\n",
       "      <td>9</td>\n",
       "      <td>0.375000</td>\n",
       "      <td>32</td>\n",
       "      <td>32</td>\n",
       "      <td>MDM</td>\n",
       "    </tr>\n",
       "    <tr>\n",
       "      <th>9</th>\n",
       "      <td>10</td>\n",
       "      <td>0.468750</td>\n",
       "      <td>96</td>\n",
       "      <td>32</td>\n",
       "      <td>MDM</td>\n",
       "    </tr>\n",
       "    <tr>\n",
       "      <th>10</th>\n",
       "      <td>11</td>\n",
       "      <td>0.437500</td>\n",
       "      <td>32</td>\n",
       "      <td>32</td>\n",
       "      <td>MDM</td>\n",
       "    </tr>\n",
       "    <tr>\n",
       "      <th>11</th>\n",
       "      <td>12</td>\n",
       "      <td>0.831250</td>\n",
       "      <td>128</td>\n",
       "      <td>32</td>\n",
       "      <td>MDM</td>\n",
       "    </tr>\n",
       "    <tr>\n",
       "      <th>12</th>\n",
       "      <td>1</td>\n",
       "      <td>0.531250</td>\n",
       "      <td>32</td>\n",
       "      <td>32</td>\n",
       "      <td>TS+LogReg</td>\n",
       "    </tr>\n",
       "    <tr>\n",
       "      <th>13</th>\n",
       "      <td>2</td>\n",
       "      <td>0.515625</td>\n",
       "      <td>32</td>\n",
       "      <td>32</td>\n",
       "      <td>TS+LogReg</td>\n",
       "    </tr>\n",
       "    <tr>\n",
       "      <th>14</th>\n",
       "      <td>3</td>\n",
       "      <td>0.828125</td>\n",
       "      <td>32</td>\n",
       "      <td>32</td>\n",
       "      <td>TS+LogReg</td>\n",
       "    </tr>\n",
       "    <tr>\n",
       "      <th>15</th>\n",
       "      <td>4</td>\n",
       "      <td>0.546875</td>\n",
       "      <td>32</td>\n",
       "      <td>32</td>\n",
       "      <td>TS+LogReg</td>\n",
       "    </tr>\n",
       "    <tr>\n",
       "      <th>16</th>\n",
       "      <td>5</td>\n",
       "      <td>0.484375</td>\n",
       "      <td>32</td>\n",
       "      <td>32</td>\n",
       "      <td>TS+LogReg</td>\n",
       "    </tr>\n",
       "    <tr>\n",
       "      <th>17</th>\n",
       "      <td>6</td>\n",
       "      <td>0.593750</td>\n",
       "      <td>32</td>\n",
       "      <td>32</td>\n",
       "      <td>TS+LogReg</td>\n",
       "    </tr>\n",
       "    <tr>\n",
       "      <th>18</th>\n",
       "      <td>7</td>\n",
       "      <td>0.666667</td>\n",
       "      <td>64</td>\n",
       "      <td>32</td>\n",
       "      <td>TS+LogReg</td>\n",
       "    </tr>\n",
       "    <tr>\n",
       "      <th>19</th>\n",
       "      <td>8</td>\n",
       "      <td>0.609375</td>\n",
       "      <td>32</td>\n",
       "      <td>32</td>\n",
       "      <td>TS+LogReg</td>\n",
       "    </tr>\n",
       "    <tr>\n",
       "      <th>20</th>\n",
       "      <td>9</td>\n",
       "      <td>0.359375</td>\n",
       "      <td>32</td>\n",
       "      <td>32</td>\n",
       "      <td>TS+LogReg</td>\n",
       "    </tr>\n",
       "    <tr>\n",
       "      <th>21</th>\n",
       "      <td>10</td>\n",
       "      <td>0.468750</td>\n",
       "      <td>96</td>\n",
       "      <td>32</td>\n",
       "      <td>TS+LogReg</td>\n",
       "    </tr>\n",
       "    <tr>\n",
       "      <th>22</th>\n",
       "      <td>11</td>\n",
       "      <td>0.421875</td>\n",
       "      <td>32</td>\n",
       "      <td>32</td>\n",
       "      <td>TS+LogReg</td>\n",
       "    </tr>\n",
       "    <tr>\n",
       "      <th>23</th>\n",
       "      <td>12</td>\n",
       "      <td>0.806250</td>\n",
       "      <td>128</td>\n",
       "      <td>32</td>\n",
       "      <td>TS+LogReg</td>\n",
       "    </tr>\n",
       "  </tbody>\n",
       "</table>\n",
       "</div>"
      ],
      "text/plain": [
       "    subject     score  train samples  test samples   pipeline\n",
       "0         1  0.437500             32            32        MDM\n",
       "1         2  0.578125             32            32        MDM\n",
       "2         3  0.843750             32            32        MDM\n",
       "3         4  0.625000             32            32        MDM\n",
       "4         5  0.484375             32            32        MDM\n",
       "5         6  0.609375             32            32        MDM\n",
       "6         7  0.645833             64            32        MDM\n",
       "7         8  0.640625             32            32        MDM\n",
       "8         9  0.375000             32            32        MDM\n",
       "9        10  0.468750             96            32        MDM\n",
       "10       11  0.437500             32            32        MDM\n",
       "11       12  0.831250            128            32        MDM\n",
       "12        1  0.531250             32            32  TS+LogReg\n",
       "13        2  0.515625             32            32  TS+LogReg\n",
       "14        3  0.828125             32            32  TS+LogReg\n",
       "15        4  0.546875             32            32  TS+LogReg\n",
       "16        5  0.484375             32            32  TS+LogReg\n",
       "17        6  0.593750             32            32  TS+LogReg\n",
       "18        7  0.666667             64            32  TS+LogReg\n",
       "19        8  0.609375             32            32  TS+LogReg\n",
       "20        9  0.359375             32            32  TS+LogReg\n",
       "21       10  0.468750             96            32  TS+LogReg\n",
       "22       11  0.421875             32            32  TS+LogReg\n",
       "23       12  0.806250            128            32  TS+LogReg"
      ]
     },
     "execution_count": 16,
     "metadata": {},
     "output_type": "execute_result"
    }
   ],
   "source": [
    "import pandas as pd\n",
    "df = pd.DataFrame(results)\n",
    "df"
   ]
  },
  {
   "cell_type": "code",
   "execution_count": 17,
   "metadata": {},
   "outputs": [
    {
     "data": {
      "image/png": "[encoded data removed]",
      "text/plain": [
       "<Figure size 432x288 with 1 Axes>"
      ]
     },
     "metadata": {},
     "output_type": "display_data"
    }
   ],
   "source": [
    "plt.figure()\n",
    "sns.barplot(data=results, y=\"score\", x=\"subject\", hue=\"pipeline\")\n",
    "\n",
    "plt.show()"
   ]
  },
  {
   "cell_type": "code",
   "execution_count": null,
   "metadata": {},
   "outputs": [],
   "source": []
  }
 ],
 "metadata": {
  "kernelspec": {
   "display_name": "Python 3",
   "language": "python",
   "name": "python3"
  },
  "language_info": {
   "codemirror_mode": {
    "name": "ipython",
    "version": 3
   },
   "file_extension": ".py",
   "mimetype": "text/x-python",
   "name": "python",
   "nbconvert_exporter": "python",
   "pygments_lexer": "ipython3",
   "version": "3.8.5"
  }
 },
 "nbformat": 4,
 "nbformat_minor": 1
}
