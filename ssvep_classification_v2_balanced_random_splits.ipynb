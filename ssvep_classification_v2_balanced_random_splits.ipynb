{
 "cells": [
  {
   "cell_type": "code",
   "execution_count": 26,
   "metadata": {},
   "outputs": [],
   "source": [
    "import mne\n",
    "import numpy as np\n",
    "import matplotlib.pyplot as plt\n",
    "import scipy\n",
    "import os\n",
    "from collections import OrderedDict\n",
    "import seaborn as sns\n",
    "import pandas as pd\n",
    "import gzip\n",
    "from scipy.signal import filtfilt, butter\n",
    "import pickle\n",
    "from pyriemann.estimation import Covariances\n",
    "from pyriemann.utils.mean import mean_riemann\n",
    "from pyriemann.utils.distance import distance_riemann\n",
    "from sklearn.model_selection import KFold\n",
    "from itertools import combinations,product\n",
    "from tqdm import tqdm"
   ]
  },
  {
   "cell_type": "code",
   "execution_count": 6,
   "metadata": {},
   "outputs": [],
   "source": [
    "#Parameters : experimental setup\n",
    "tmin=2\n",
    "tmax=5\n",
    "sfreq = 256\n",
    "freq_band=0.1\n",
    "frequencies= [13,17,21]\n",
    "event_code = [33024,33025,33026,33027]\n",
    "channels = np.array(['Oz','O1','O2','PO3','POz','PO7','PO8','PO4'])\n",
    "names=['resting','stim13','stim21','stim17']"
   ]
  },
  {
   "cell_type": "code",
   "execution_count": 7,
   "metadata": {},
   "outputs": [],
   "source": [
    "#loading data\n",
    "def organize_data_into_dict(data_path= 'ssvep_dataset/'):\n",
    "    subj_list = os.listdir(data_path)\n",
    "    records = {k: [] for k in subj_list}\n",
    "    for subj in subj_list:\n",
    "        record_all = os.listdir(data_path+subj+'/')\n",
    "        n = len(record_all)//4#number of records of a given subject\n",
    "        for i in range(n):\n",
    "            records[subj].append(record_all[i*4][:28])\n",
    "    return records\n",
    "\n",
    "def load_data(chosen_subject,chosen_index,records,data_path= 'ssvep_dataset/'):\n",
    "    subj_list = list(records.keys())\n",
    "    assert chosen_subject in subj_list,\"The chosen subject doesn't exist in the dataset.\"\n",
    "    assert chosen_index in range(len(records[chosen_subject])),\"The chosen record doesn't exist for the subject \"+chosen_subject\n",
    "\n",
    "    fname = chosen_subject+'/'+records[chosen_subject][chosen_index]\n",
    "    with gzip.open(data_path + fname + '.pz', 'rb') as f:\n",
    "        o = pickle.load(f, encoding='latin1')\n",
    "    raw_signal = o['raw_signal'].T\n",
    "    event_pos = o['event_pos'].reshape((o['event_pos'].shape[0]))\n",
    "    event_type = o['event_type'].reshape((o['event_type'].shape[0]))\n",
    "    return raw_signal,event_pos,event_type"
   ]
  },
  {
   "cell_type": "code",
   "execution_count": 8,
   "metadata": {},
   "outputs": [],
   "source": [
    "#The Butterworth filter : band-pass filter, flat in the passband , the passband is concentrated on \n",
    "def filter_bandpass(signal, fmin, fmax, fs, order=4, filttype='forward-backward'):\n",
    "    nyq = 0.5 * fs\n",
    "    low = fmin / nyq\n",
    "    high = fmax / nyq\n",
    "    b, a = butter(order, [low, high], btype='band')\n",
    "    #filter tpe : forwaard-backward\n",
    "    filtered = filtfilt(b, a, signal, axis=-1)  \n",
    "    return filtered"
   ]
  },
  {
   "cell_type": "code",
   "execution_count": 9,
   "metadata": {},
   "outputs": [],
   "source": [
    "def extended_trials(raw_signal,event_pos,event_type,sfreq=sfreq,frequencies=frequencies,tmin=tmin,tmax=tmax,\n",
    "                    freq_band=freq_band,channels = channels):\n",
    "    ext_signal = np.empty_like(raw_signal[0,:])    \n",
    "    for f in frequencies:\n",
    "        ext_signal = np.vstack((ext_signal, filter_bandpass(raw_signal, f-freq_band, f+freq_band, fs=sfreq)))\n",
    "    ext_signal = ext_signal[1:,:]\n",
    "    ext_trials = list()\n",
    "    for e, t in zip(event_type, event_pos):\n",
    "        if e == 32779: # start of a trial\n",
    "            start = t + tmin*sfreq\n",
    "            stop  = t + tmax*sfreq\n",
    "            ext_trials.append(ext_signal[:, start:stop])\n",
    "    ext_trials = np.array(ext_trials)\n",
    "    ext_trials = ext_trials - np.tile(ext_trials.mean(axis=2).reshape(ext_trials.shape[0], \n",
    "                                ext_trials.shape[1], 1), (1, 1, ext_trials.shape[2]))\n",
    "    return ext_trials\n",
    "    "
   ]
  },
  {
   "cell_type": "code",
   "execution_count": 10,
   "metadata": {},
   "outputs": [],
   "source": [
    "def make_labels(event_type,event_code=event_code):\n",
    "    labels = []\n",
    "    n_events = len(event_code)\n",
    "    for e in event_type:\n",
    "        for i in range(n_events):\n",
    "            if e==event_code[i]:\n",
    "                labels.append(i)\n",
    "    return labels"
   ]
  },
  {
   "cell_type": "code",
   "execution_count": 11,
   "metadata": {},
   "outputs": [],
   "source": [
    "#visualisation of the extended signals of a given trial\n",
    "def visualisation_of_ext_trails(ext_trials,trial,n_seconds,frequencies=frequencies,sfreq=sfreq,\n",
    "                               channels = channels):\n",
    "    n_trials = ext_trials.shape[0]\n",
    "    assert trial in range(n_trials),\"The selected trial is out of range.\"\n",
    "    assert n_seconds <=3, \"The duration of a trial is 3s. Make sure to select less seconds for visualization\"\n",
    "    n_channels = len(channels)\n",
    "    time = np.linspace(0, n_seconds, n_seconds * sfreq).reshape((1, n_seconds * sfreq))\n",
    "    fig, axs = plt.subplots(4,2,figsize=(15,15))\n",
    "    axs =axs.flatten()\n",
    "    for i in range(n_channels):\n",
    "        for j in range(len(frequencies)):\n",
    "            axs[i].plot(time.T, ext_trials[trial, n_channels*j+i, :].T, label=str(frequencies[j])+' Hz')\n",
    "        if i%2==0:\n",
    "            axs[i].set_ylabel(\"$\\\\mu$V\")\n",
    "        axs[i].set_title(channels[i])\n",
    "        axs[i].legend(loc='upper left')\n",
    "    axs[i-1].set_xlabel('Time (s)')\n",
    "    axs[i].set_xlabel('Time (s)')"
   ]
  },
  {
   "cell_type": "code",
   "execution_count": 12,
   "metadata": {},
   "outputs": [],
   "source": [
    "def covariances(ext_trials,estimator='scm'):\n",
    "    cov_ext_trials = Covariances(estimator='scm').transform(ext_trials)\n",
    "    return cov_ext_trials"
   ]
  },
  {
   "cell_type": "code",
   "execution_count": 13,
   "metadata": {},
   "outputs": [],
   "source": [
    "def GeometricCenters(x_train,y_train,nb_classes=len(frequencies)+1):\n",
    "    cov_centers = np.empty((nb_classes, x_train.shape[1], x_train.shape[1]))\n",
    "    x_trains=[[] for i in range(nb_classes) ]\n",
    "    for i in range(nb_classes):\n",
    "        for j in range(x_train.shape[0]):\n",
    "            if y_train[j]==i:\n",
    "                x_trains[i].append(x_train[j,:,:])\n",
    "    for i in range(nb_classes):\n",
    "        x_trains[i]=np.asarray(x_trains[i])\n",
    "    for i in range(nb_classes):\n",
    "        cov_centers[i, :, :] = mean_riemann(x_trains[i])\n",
    "    return cov_centers\n"
   ]
  },
  {
   "cell_type": "code",
   "execution_count": 14,
   "metadata": {},
   "outputs": [],
   "source": [
    "def accuracy(x,y,cov_centers):\n",
    "    nb_classes= cov_centers.shape[0]\n",
    "    classes=list(range(cov_centers.shape[0]))\n",
    "    accuracies = list()\n",
    "    for sample, true_label in zip(x, y):\n",
    "        dist = [distance_riemann(sample, cov_centers[m]) for m in range(nb_classes)]\n",
    "        if classes[np.array(dist).argmin()] == true_label:\n",
    "            accuracies.append(1)\n",
    "        else: accuracies.append(0)\n",
    "    accuracy_ = 100.*np.array(accuracies).sum()/len(y)\n",
    "    return accuracy_\n"
   ]
  },
  {
   "cell_type": "code",
   "execution_count": 15,
   "metadata": {},
   "outputs": [],
   "source": [
    "def describe_label(y,nb_classes=len(frequencies)+1):\n",
    "    for i in range(nb_classes):\n",
    "        count=0\n",
    "        for z in y:\n",
    "            if z==i:\n",
    "                count +=1\n",
    "        print(\"Occurence of class \",i,\" = \",count)"
   ]
  },
  {
   "cell_type": "code",
   "execution_count": null,
   "metadata": {},
   "outputs": [],
   "source": [
    "def random_selection(n,p,q):\n",
    "    res = []\n",
    "    i=0\n",
    "    while i< q:\n",
    "        element = list(np.random.randint(low = 0, high = n, size = p))\n",
    "        if not(element in res):\n",
    "            i +=1\n",
    "            res.append(element)\n",
    "    return res"
   ]
  },
  {
   "cell_type": "code",
   "execution_count": 29,
   "metadata": {},
   "outputs": [],
   "source": [
    "def classify_single_recording_with_balanced_cross_val(chosen_subject,chosen_index,records,k=7,max_folds = 10,n_classes=4):\n",
    "    #k = number of samples of each class in the training set \n",
    "    #for exp, if k=7, the train set contains 4*k=28 samples and thus the test set 4 samples.\n",
    "    assert 0<k<8, \"Incorrect number of samples per class in the train set\"\n",
    "    raw_signal,event_pos,event_type = load_data(chosen_subject,chosen_index,records)\n",
    "    ext_trials = extended_trials(raw_signal,event_pos,event_type)\n",
    "    labels = make_labels(event_type)\n",
    "    cov_ext_trials = covariances(ext_trials)\n",
    "        \n",
    "    classes_index = { i :[] for i in range(n_classes)} \n",
    "    #assigns for each classs the indices of samples belonging to that class\n",
    "    \n",
    "    for j in range(len(labels)) : \n",
    "        classes_index[labels[j]].append(j)\n",
    "        \n",
    "    #the number of folds is n_classes*C(k,8). So, for k=7, we can build 4*8 = 32 different train and test sets\n",
    "    \n",
    "    classes_index_comb = { i :list(combinations(classes_index[i],k)) for i in range(n_classes)} \n",
    "    n_folds_per_class = len(classes_index_comb[0]) #=C(k,8)\n",
    "\n",
    "    possible_train_folds_indx = random_selection(n_folds_per_class,n_classes,max_folds)\n",
    "        \n",
    "    trains,tests = [],[]\n",
    "    for n in range(max_folds):\n",
    "        train,test = [],[]\n",
    "        l = possible_train_folds_indx[n]\n",
    "        for i in range(n_classes):\n",
    "            train.extend(classes_index_comb[i][l[i]])\n",
    "        for j in range(len(labels)):\n",
    "            if not( j in train):\n",
    "                test.append(j)\n",
    "        trains.append(train)\n",
    "        tests.append(test)\n",
    "\n",
    "    \n",
    "    train_accuracy, test_accuracy = [], []\n",
    "\n",
    "    for n in tqdm(range(max_folds)):\n",
    "        x_train,x_test,y_train,y_test = [],[],[],[]\n",
    "        \n",
    "        for i in trains[n]:\n",
    "            x_train.append(cov_ext_trials[i,:,:])\n",
    "            y_train.append(labels[i])\n",
    "\n",
    "        for i in tests[n]:\n",
    "            x_test.append(cov_ext_trials[i,:,:])\n",
    "            y_test.append(labels[i])\n",
    "        \n",
    "        x_train = np.asarray(x_train)\n",
    "        x_test  = np.asarray(x_test)\n",
    "        \n",
    "        cov_centers = GeometricCenters(x_train,y_train)\n",
    "        \n",
    "        train_accuracy.append(accuracy(x_train,y_train,cov_centers))\n",
    "        test_accuracy.append(accuracy(x_test,y_test,cov_centers))\n",
    "    \n",
    "    \n",
    "    train_accuracy = np.asarray(train_accuracy)\n",
    "    test_accuracy = np.asarray(test_accuracy)\n",
    "    \n",
    "    print(\"Train Accuracy  = \",round(np.mean(train_accuracy),2),\"%  +/- \", round(np.std(train_accuracy),2),\"%\")\n",
    "    print(\"Test  Accuracy  = \",round(np.mean(test_accuracy),2),\"%   +/- \", round(np.std(test_accuracy),2),\"%\")\n",
    "    return np.mean(train_accuracy),np.mean(test_accuracy)\n",
    "    "
   ]
  },
  {
   "cell_type": "code",
   "execution_count": 31,
   "metadata": {},
   "outputs": [
    {
     "name": "stdout",
     "output_type": "stream",
     "text": [
      "______________Subject :  subject01 ______________\n",
      "*****Record :  record-[2012.07.06-19.02.16] *****\n"
     ]
    },
    {
     "name": "stderr",
     "output_type": "stream",
     "text": [
      "100%|██████████| 10/10 [00:05<00:00,  1.92it/s]\n"
     ]
    },
    {
     "name": "stdout",
     "output_type": "stream",
     "text": [
      "Train Accuracy  =  95.83 %  +/-  2.64 %\n",
      "Test  Accuracy  =  22.5 %   +/-  12.25 %\n",
      "\n",
      "*****Record :  record-[2012.07.06-19.06.14] *****\n"
     ]
    },
    {
     "name": "stderr",
     "output_type": "stream",
     "text": [
      "100%|██████████| 10/10 [00:05<00:00,  1.81it/s]\n"
     ]
    },
    {
     "name": "stdout",
     "output_type": "stream",
     "text": [
      "Train Accuracy  =  94.17 %  +/-  2.76 %\n",
      "Test  Accuracy  =  32.5 %   +/-  13.92 %\n",
      "\n",
      "______________Subject :  subject02 ______________\n",
      "*****Record :  record-[2012.07.19-17.36.23] *****\n"
     ]
    },
    {
     "name": "stderr",
     "output_type": "stream",
     "text": [
      "100%|██████████| 10/10 [00:05<00:00,  1.89it/s]\n"
     ]
    },
    {
     "name": "stdout",
     "output_type": "stream",
     "text": [
      "Train Accuracy  =  97.92 %  +/-  2.8 %\n",
      "Test  Accuracy  =  30.0 %   +/-  8.29 %\n",
      "\n",
      "*****Record :  record-[2012.07.19-17.41.14] *****\n"
     ]
    },
    {
     "name": "stderr",
     "output_type": "stream",
     "text": [
      "100%|██████████| 10/10 [00:05<00:00,  1.93it/s]\n"
     ]
    },
    {
     "name": "stdout",
     "output_type": "stream",
     "text": [
      "Train Accuracy  =  94.58 %  +/-  3.75 %\n",
      "Test  Accuracy  =  22.5 %   +/-  12.25 %\n",
      "\n",
      "______________Subject :  subject03 ______________\n",
      "*****Record :  record-[2012.07.11-15.25.23] *****\n"
     ]
    },
    {
     "name": "stderr",
     "output_type": "stream",
     "text": [
      "100%|██████████| 10/10 [00:05<00:00,  1.93it/s]\n"
     ]
    },
    {
     "name": "stdout",
     "output_type": "stream",
     "text": [
      "Train Accuracy  =  99.17 %  +/-  1.67 %\n",
      "Test  Accuracy  =  41.25 %   +/-  9.76 %\n",
      "\n",
      "*****Record :  record-[2012.07.11-15.33.08] *****\n"
     ]
    },
    {
     "name": "stderr",
     "output_type": "stream",
     "text": [
      "100%|██████████| 10/10 [00:05<00:00,  1.74it/s]\n"
     ]
    },
    {
     "name": "stdout",
     "output_type": "stream",
     "text": [
      "Train Accuracy  =  100.0 %  +/-  0.0 %\n",
      "Test  Accuracy  =  50.0 %   +/-  9.68 %\n",
      "\n",
      "______________Subject :  subject04 ______________\n",
      "*****Record :  record-[2012.07.18-17.52.30] *****\n"
     ]
    },
    {
     "name": "stderr",
     "output_type": "stream",
     "text": [
      "100%|██████████| 10/10 [00:05<00:00,  1.81it/s]\n"
     ]
    },
    {
     "name": "stdout",
     "output_type": "stream",
     "text": [
      "Train Accuracy  =  100.0 %  +/-  0.0 %\n",
      "Test  Accuracy  =  31.25 %   +/-  12.81 %\n",
      "\n",
      "*****Record :  record-[2012.07.18-17.56.53] *****\n"
     ]
    },
    {
     "name": "stderr",
     "output_type": "stream",
     "text": [
      "100%|██████████| 10/10 [00:05<00:00,  1.98it/s]\n"
     ]
    },
    {
     "name": "stdout",
     "output_type": "stream",
     "text": [
      "Train Accuracy  =  97.92 %  +/-  2.8 %\n",
      "Test  Accuracy  =  40.0 %   +/-  7.5 %\n",
      "\n",
      "______________Subject :  subject05 ______________\n",
      "*****Record :  record-[2012.07.19-11.24.02] *****\n"
     ]
    },
    {
     "name": "stderr",
     "output_type": "stream",
     "text": [
      "100%|██████████| 10/10 [00:05<00:00,  1.97it/s]\n"
     ]
    },
    {
     "name": "stdout",
     "output_type": "stream",
     "text": [
      "Train Accuracy  =  98.33 %  +/-  2.76 %\n",
      "Test  Accuracy  =  27.5 %   +/-  13.46 %\n",
      "\n",
      "*****Record :  record-[2012.07.19-11.28.18] *****\n"
     ]
    },
    {
     "name": "stderr",
     "output_type": "stream",
     "text": [
      "100%|██████████| 10/10 [00:05<00:00,  1.81it/s]\n"
     ]
    },
    {
     "name": "stdout",
     "output_type": "stream",
     "text": [
      "Train Accuracy  =  95.42 %  +/-  3.93 %\n",
      "Test  Accuracy  =  43.75 %   +/-  15.05 %\n",
      "\n",
      "______________Subject :  subject06 ______________\n",
      "*****Record :  record-[2012.07.20-12.20.55] *****\n"
     ]
    },
    {
     "name": "stderr",
     "output_type": "stream",
     "text": [
      "100%|██████████| 10/10 [00:05<00:00,  1.95it/s]\n"
     ]
    },
    {
     "name": "stdout",
     "output_type": "stream",
     "text": [
      "Train Accuracy  =  94.17 %  +/-  3.82 %\n",
      "Test  Accuracy  =  37.5 %   +/-  11.18 %\n",
      "\n",
      "*****Record :  record-[2012.07.20-12.26.47] *****\n"
     ]
    },
    {
     "name": "stderr",
     "output_type": "stream",
     "text": [
      "100%|██████████| 10/10 [00:05<00:00,  1.91it/s]\n"
     ]
    },
    {
     "name": "stdout",
     "output_type": "stream",
     "text": [
      "Train Accuracy  =  98.33 %  +/-  2.76 %\n",
      "Test  Accuracy  =  31.25 %   +/-  11.52 %\n",
      "\n",
      "______________Subject :  subject07 ______________\n",
      "*****Record :  record-[2012.07.11-15.33.08] *****\n"
     ]
    },
    {
     "name": "stderr",
     "output_type": "stream",
     "text": [
      "100%|██████████| 10/10 [00:05<00:00,  1.70it/s]\n"
     ]
    },
    {
     "name": "stdout",
     "output_type": "stream",
     "text": [
      "Train Accuracy  =  100.0 %  +/-  0.0 %\n",
      "Test  Accuracy  =  47.5 %   +/-  13.46 %\n",
      "\n",
      "*****Record :  record-[2012.07.18-09.15.30] *****\n"
     ]
    },
    {
     "name": "stderr",
     "output_type": "stream",
     "text": [
      "100%|██████████| 10/10 [00:05<00:00,  1.84it/s]\n"
     ]
    },
    {
     "name": "stdout",
     "output_type": "stream",
     "text": [
      "Train Accuracy  =  100.0 %  +/-  0.0 %\n",
      "Test  Accuracy  =  36.25 %   +/-  20.5 %\n",
      "\n",
      "*****Record :  record-[2012.07.18-09.21.13] *****\n"
     ]
    },
    {
     "name": "stderr",
     "output_type": "stream",
     "text": [
      "100%|██████████| 10/10 [00:05<00:00,  1.76it/s]\n"
     ]
    },
    {
     "name": "stdout",
     "output_type": "stream",
     "text": [
      "Train Accuracy  =  97.5 %  +/-  3.33 %\n",
      "Test  Accuracy  =  38.75 %   +/-  8.75 %\n",
      "\n",
      "______________Subject :  subject08 ______________\n",
      "*****Record :  record-[2013.04.06-16.22.32] *****\n"
     ]
    },
    {
     "name": "stderr",
     "output_type": "stream",
     "text": [
      "100%|██████████| 10/10 [00:05<00:00,  1.80it/s]\n"
     ]
    },
    {
     "name": "stdout",
     "output_type": "stream",
     "text": [
      "Train Accuracy  =  100.0 %  +/-  0.0 %\n",
      "Test  Accuracy  =  55.0 %   +/-  12.75 %\n",
      "\n",
      "*****Record :  record-[2013.04.06-16.29.18] *****\n"
     ]
    },
    {
     "name": "stderr",
     "output_type": "stream",
     "text": [
      "100%|██████████| 10/10 [00:05<00:00,  1.79it/s]\n"
     ]
    },
    {
     "name": "stdout",
     "output_type": "stream",
     "text": [
      "Train Accuracy  =  100.0 %  +/-  0.0 %\n",
      "Test  Accuracy  =  65.0 %   +/-  5.0 %\n",
      "\n",
      "*****Record :  record-[2013.04.06-16.35.05] *****\n"
     ]
    },
    {
     "name": "stderr",
     "output_type": "stream",
     "text": [
      "100%|██████████| 10/10 [00:05<00:00,  1.79it/s]\n"
     ]
    },
    {
     "name": "stdout",
     "output_type": "stream",
     "text": [
      "Train Accuracy  =  100.0 %  +/-  0.0 %\n",
      "Test  Accuracy  =  72.5 %   +/-  9.35 %\n",
      "\n",
      "______________Subject :  subject09 ______________\n",
      "*****Record :  record-[2013.04.09-17.32.29] *****\n"
     ]
    },
    {
     "name": "stderr",
     "output_type": "stream",
     "text": [
      "100%|██████████| 10/10 [00:05<00:00,  1.87it/s]\n"
     ]
    },
    {
     "name": "stdout",
     "output_type": "stream",
     "text": [
      "Train Accuracy  =  100.0 %  +/-  0.0 %\n",
      "Test  Accuracy  =  51.25 %   +/-  14.2 %\n",
      "\n",
      "*****Record :  record-[2013.04.09-17.39.37] *****\n"
     ]
    },
    {
     "name": "stderr",
     "output_type": "stream",
     "text": [
      "100%|██████████| 10/10 [00:05<00:00,  1.76it/s]\n"
     ]
    },
    {
     "name": "stdout",
     "output_type": "stream",
     "text": [
      "Train Accuracy  =  97.92 %  +/-  2.08 %\n",
      "Test  Accuracy  =  26.25 %   +/-  11.79 %\n",
      "\n",
      "______________Subject :  subject10 ______________\n",
      "*****Record :  record-[2014.02.26-15.10.48] *****\n"
     ]
    },
    {
     "name": "stderr",
     "output_type": "stream",
     "text": [
      "100%|██████████| 10/10 [00:05<00:00,  1.95it/s]\n"
     ]
    },
    {
     "name": "stdout",
     "output_type": "stream",
     "text": [
      "Train Accuracy  =  98.75 %  +/-  1.91 %\n",
      "Test  Accuracy  =  56.25 %   +/-  12.81 %\n",
      "\n",
      "*****Record :  record-[2014.02.26-15.32.36] *****\n"
     ]
    },
    {
     "name": "stderr",
     "output_type": "stream",
     "text": [
      "100%|██████████| 10/10 [00:05<00:00,  1.98it/s]\n"
     ]
    },
    {
     "name": "stdout",
     "output_type": "stream",
     "text": [
      "Train Accuracy  =  100.0 %  +/-  0.0 %\n",
      "Test  Accuracy  =  57.5 %   +/-  16.01 %\n",
      "\n",
      "*****Record :  record-[2014.02.26-15.40.22] *****\n"
     ]
    },
    {
     "name": "stderr",
     "output_type": "stream",
     "text": [
      "100%|██████████| 10/10 [00:05<00:00,  1.90it/s]\n"
     ]
    },
    {
     "name": "stdout",
     "output_type": "stream",
     "text": [
      "Train Accuracy  =  100.0 %  +/-  0.0 %\n",
      "Test  Accuracy  =  71.25 %   +/-  9.76 %\n",
      "\n",
      "*****Record :  record-[2014.02.26-15.50.09] *****\n"
     ]
    },
    {
     "name": "stderr",
     "output_type": "stream",
     "text": [
      "100%|██████████| 10/10 [00:05<00:00,  1.92it/s]\n"
     ]
    },
    {
     "name": "stdout",
     "output_type": "stream",
     "text": [
      "Train Accuracy  =  97.92 %  +/-  2.08 %\n",
      "Test  Accuracy  =  61.25 %   +/-  13.05 %\n",
      "\n",
      "*****Record :  record-[2014.02.26-16.18.11] *****\n"
     ]
    },
    {
     "name": "stderr",
     "output_type": "stream",
     "text": [
      "100%|██████████| 10/10 [00:05<00:00,  1.94it/s]\n"
     ]
    },
    {
     "name": "stdout",
     "output_type": "stream",
     "text": [
      "Train Accuracy  =  97.92 %  +/-  2.08 %\n",
      "Test  Accuracy  =  62.5 %   +/-  13.69 %\n",
      "\n",
      "*****Record :  record-[2014.02.26-16.25.45] *****\n"
     ]
    },
    {
     "name": "stderr",
     "output_type": "stream",
     "text": [
      "100%|██████████| 10/10 [00:05<00:00,  1.72it/s]\n"
     ]
    },
    {
     "name": "stdout",
     "output_type": "stream",
     "text": [
      "Train Accuracy  =  99.17 %  +/-  1.67 %\n",
      "Test  Accuracy  =  31.25 %   +/-  12.81 %\n",
      "\n",
      "______________Subject :  subject11 ______________\n",
      "*****Record :  record-[2014.02.24-17.56.37] *****\n"
     ]
    },
    {
     "name": "stderr",
     "output_type": "stream",
     "text": [
      "100%|██████████| 10/10 [00:05<00:00,  1.99it/s]\n"
     ]
    },
    {
     "name": "stdout",
     "output_type": "stream",
     "text": [
      "Train Accuracy  =  98.75 %  +/-  1.91 %\n",
      "Test  Accuracy  =  56.25 %   +/-  10.08 %\n",
      "\n",
      "*****Record :  record-[2014.02.24-18.02.40] *****\n"
     ]
    },
    {
     "name": "stderr",
     "output_type": "stream",
     "text": [
      "100%|██████████| 10/10 [00:05<00:00,  1.91it/s]\n"
     ]
    },
    {
     "name": "stdout",
     "output_type": "stream",
     "text": [
      "Train Accuracy  =  99.17 %  +/-  1.67 %\n",
      "Test  Accuracy  =  32.5 %   +/-  15.0 %\n",
      "\n",
      "*****Record :  record-[2014.02.24-18.15.11] *****\n"
     ]
    },
    {
     "name": "stderr",
     "output_type": "stream",
     "text": [
      "100%|██████████| 10/10 [00:05<00:00,  1.99it/s]\n"
     ]
    },
    {
     "name": "stdout",
     "output_type": "stream",
     "text": [
      "Train Accuracy  =  98.75 %  +/-  1.91 %\n",
      "Test  Accuracy  =  56.25 %   +/-  10.08 %\n",
      "\n",
      "*****Record :  record-[2014.02.24-18.23.37] *****\n"
     ]
    },
    {
     "name": "stderr",
     "output_type": "stream",
     "text": [
      "100%|██████████| 10/10 [00:04<00:00,  2.01it/s]\n"
     ]
    },
    {
     "name": "stdout",
     "output_type": "stream",
     "text": [
      "Train Accuracy  =  96.25 %  +/-  3.93 %\n",
      "Test  Accuracy  =  46.25 %   +/-  8.0 %\n",
      "\n",
      "______________Subject :  subject12 ______________\n",
      "*****Record :  record-[2014.03.10-19.17.37] *****\n"
     ]
    },
    {
     "name": "stderr",
     "output_type": "stream",
     "text": [
      "100%|██████████| 10/10 [00:05<00:00,  1.84it/s]\n"
     ]
    },
    {
     "name": "stdout",
     "output_type": "stream",
     "text": [
      "Train Accuracy  =  100.0 %  +/-  0.0 %\n",
      "Test  Accuracy  =  86.25 %   +/-  14.2 %\n",
      "\n",
      "*****Record :  record-[2014.03.10-19.47.49] *****\n"
     ]
    },
    {
     "name": "stderr",
     "output_type": "stream",
     "text": [
      "100%|██████████| 10/10 [00:05<00:00,  1.99it/s]\n"
     ]
    },
    {
     "name": "stdout",
     "output_type": "stream",
     "text": [
      "Train Accuracy  =  100.0 %  +/-  0.0 %\n",
      "Test  Accuracy  =  56.25 %   +/-  17.9 %\n",
      "\n",
      "*****Record :  record-[2014.03.10-20.11.55] *****\n"
     ]
    },
    {
     "name": "stderr",
     "output_type": "stream",
     "text": [
      "100%|██████████| 10/10 [00:05<00:00,  1.88it/s]\n"
     ]
    },
    {
     "name": "stdout",
     "output_type": "stream",
     "text": [
      "Train Accuracy  =  100.0 %  +/-  0.0 %\n",
      "Test  Accuracy  =  58.75 %   +/-  13.75 %\n",
      "\n",
      "*****Record :  record-[2014.03.10-20.26.46] *****\n"
     ]
    },
    {
     "name": "stderr",
     "output_type": "stream",
     "text": [
      "100%|██████████| 10/10 [00:05<00:00,  1.84it/s]\n"
     ]
    },
    {
     "name": "stdout",
     "output_type": "stream",
     "text": [
      "Train Accuracy  =  100.0 %  +/-  0.0 %\n",
      "Test  Accuracy  =  65.0 %   +/-  10.9 %\n",
      "\n",
      "*****Record :  record-[2014.03.10-20.41.35] *****\n"
     ]
    },
    {
     "name": "stderr",
     "output_type": "stream",
     "text": [
      "100%|██████████| 10/10 [00:05<00:00,  1.85it/s]"
     ]
    },
    {
     "name": "stdout",
     "output_type": "stream",
     "text": [
      "Train Accuracy  =  100.0 %  +/-  0.0 %\n",
      "Test  Accuracy  =  67.5 %   +/-  13.92 %\n",
      "\n"
     ]
    },
    {
     "name": "stderr",
     "output_type": "stream",
     "text": [
      "\n"
     ]
    }
   ],
   "source": [
    "# 24 samples for train\n",
    "records = organize_data_into_dict()\n",
    "key_list =[]\n",
    "for subj in records.keys():\n",
    "    for session in range(len(records[subj])):\n",
    "        key_list.append((subj,records[subj][session]))\n",
    "accuracies_ = { x: {'train accuracy':0,'test accuracy':0} for x in key_list}\n",
    "for subj in records.keys():\n",
    "    print(\"______________Subject : \",subj,\"______________\")\n",
    "    for session in range(len(records[subj])):\n",
    "        print(\"*****Record : \",records[subj][session],\"*****\")\n",
    "        train,test = classify_single_recording_with_balanced_cross_val(subj,session,records,k=6,max_folds = 10)\n",
    "        accuracies_[(subj,records[subj][session])]['train accuracy'] = train\n",
    "        accuracies_[(subj,records[subj][session])]['test accuracy'] = test\n",
    "        print()"
   ]
  },
  {
   "cell_type": "code",
   "execution_count": 32,
   "metadata": {},
   "outputs": [
    {
     "data": {
      "text/html": [
       "<div>\n",
       "<style scoped>\n",
       "    .dataframe tbody tr th:only-of-type {\n",
       "        vertical-align: middle;\n",
       "    }\n",
       "\n",
       "    .dataframe tbody tr th {\n",
       "        vertical-align: top;\n",
       "    }\n",
       "\n",
       "    .dataframe thead th {\n",
       "        text-align: right;\n",
       "    }\n",
       "</style>\n",
       "<table border=\"1\" class=\"dataframe\">\n",
       "  <thead>\n",
       "    <tr style=\"text-align: right;\">\n",
       "      <th></th>\n",
       "      <th></th>\n",
       "      <th>train accuracy</th>\n",
       "      <th>test accuracy</th>\n",
       "    </tr>\n",
       "  </thead>\n",
       "  <tbody>\n",
       "    <tr>\n",
       "      <th rowspan=\"2\" valign=\"top\">subject01</th>\n",
       "      <th>record-[2012.07.06-19.02.16]</th>\n",
       "      <td>95.833333</td>\n",
       "      <td>22.50</td>\n",
       "    </tr>\n",
       "    <tr>\n",
       "      <th>record-[2012.07.06-19.06.14]</th>\n",
       "      <td>94.166667</td>\n",
       "      <td>32.50</td>\n",
       "    </tr>\n",
       "    <tr>\n",
       "      <th rowspan=\"2\" valign=\"top\">subject02</th>\n",
       "      <th>record-[2012.07.19-17.36.23]</th>\n",
       "      <td>97.916667</td>\n",
       "      <td>30.00</td>\n",
       "    </tr>\n",
       "    <tr>\n",
       "      <th>record-[2012.07.19-17.41.14]</th>\n",
       "      <td>94.583333</td>\n",
       "      <td>22.50</td>\n",
       "    </tr>\n",
       "    <tr>\n",
       "      <th rowspan=\"2\" valign=\"top\">subject03</th>\n",
       "      <th>record-[2012.07.11-15.25.23]</th>\n",
       "      <td>99.166667</td>\n",
       "      <td>41.25</td>\n",
       "    </tr>\n",
       "    <tr>\n",
       "      <th>record-[2012.07.11-15.33.08]</th>\n",
       "      <td>100.000000</td>\n",
       "      <td>50.00</td>\n",
       "    </tr>\n",
       "    <tr>\n",
       "      <th rowspan=\"2\" valign=\"top\">subject04</th>\n",
       "      <th>record-[2012.07.18-17.52.30]</th>\n",
       "      <td>100.000000</td>\n",
       "      <td>31.25</td>\n",
       "    </tr>\n",
       "    <tr>\n",
       "      <th>record-[2012.07.18-17.56.53]</th>\n",
       "      <td>97.916667</td>\n",
       "      <td>40.00</td>\n",
       "    </tr>\n",
       "    <tr>\n",
       "      <th rowspan=\"2\" valign=\"top\">subject05</th>\n",
       "      <th>record-[2012.07.19-11.24.02]</th>\n",
       "      <td>98.333333</td>\n",
       "      <td>27.50</td>\n",
       "    </tr>\n",
       "    <tr>\n",
       "      <th>record-[2012.07.19-11.28.18]</th>\n",
       "      <td>95.416667</td>\n",
       "      <td>43.75</td>\n",
       "    </tr>\n",
       "    <tr>\n",
       "      <th rowspan=\"2\" valign=\"top\">subject06</th>\n",
       "      <th>record-[2012.07.20-12.20.55]</th>\n",
       "      <td>94.166667</td>\n",
       "      <td>37.50</td>\n",
       "    </tr>\n",
       "    <tr>\n",
       "      <th>record-[2012.07.20-12.26.47]</th>\n",
       "      <td>98.333333</td>\n",
       "      <td>31.25</td>\n",
       "    </tr>\n",
       "    <tr>\n",
       "      <th rowspan=\"3\" valign=\"top\">subject07</th>\n",
       "      <th>record-[2012.07.11-15.33.08]</th>\n",
       "      <td>100.000000</td>\n",
       "      <td>47.50</td>\n",
       "    </tr>\n",
       "    <tr>\n",
       "      <th>record-[2012.07.18-09.15.30]</th>\n",
       "      <td>100.000000</td>\n",
       "      <td>36.25</td>\n",
       "    </tr>\n",
       "    <tr>\n",
       "      <th>record-[2012.07.18-09.21.13]</th>\n",
       "      <td>97.500000</td>\n",
       "      <td>38.75</td>\n",
       "    </tr>\n",
       "    <tr>\n",
       "      <th rowspan=\"3\" valign=\"top\">subject08</th>\n",
       "      <th>record-[2013.04.06-16.22.32]</th>\n",
       "      <td>100.000000</td>\n",
       "      <td>55.00</td>\n",
       "    </tr>\n",
       "    <tr>\n",
       "      <th>record-[2013.04.06-16.29.18]</th>\n",
       "      <td>100.000000</td>\n",
       "      <td>65.00</td>\n",
       "    </tr>\n",
       "    <tr>\n",
       "      <th>record-[2013.04.06-16.35.05]</th>\n",
       "      <td>100.000000</td>\n",
       "      <td>72.50</td>\n",
       "    </tr>\n",
       "    <tr>\n",
       "      <th rowspan=\"2\" valign=\"top\">subject09</th>\n",
       "      <th>record-[2013.04.09-17.32.29]</th>\n",
       "      <td>100.000000</td>\n",
       "      <td>51.25</td>\n",
       "    </tr>\n",
       "    <tr>\n",
       "      <th>record-[2013.04.09-17.39.37]</th>\n",
       "      <td>97.916667</td>\n",
       "      <td>26.25</td>\n",
       "    </tr>\n",
       "    <tr>\n",
       "      <th rowspan=\"6\" valign=\"top\">subject10</th>\n",
       "      <th>record-[2014.02.26-15.10.48]</th>\n",
       "      <td>98.750000</td>\n",
       "      <td>56.25</td>\n",
       "    </tr>\n",
       "    <tr>\n",
       "      <th>record-[2014.02.26-15.32.36]</th>\n",
       "      <td>100.000000</td>\n",
       "      <td>57.50</td>\n",
       "    </tr>\n",
       "    <tr>\n",
       "      <th>record-[2014.02.26-15.40.22]</th>\n",
       "      <td>100.000000</td>\n",
       "      <td>71.25</td>\n",
       "    </tr>\n",
       "    <tr>\n",
       "      <th>record-[2014.02.26-15.50.09]</th>\n",
       "      <td>97.916667</td>\n",
       "      <td>61.25</td>\n",
       "    </tr>\n",
       "    <tr>\n",
       "      <th>record-[2014.02.26-16.18.11]</th>\n",
       "      <td>97.916667</td>\n",
       "      <td>62.50</td>\n",
       "    </tr>\n",
       "    <tr>\n",
       "      <th>record-[2014.02.26-16.25.45]</th>\n",
       "      <td>99.166667</td>\n",
       "      <td>31.25</td>\n",
       "    </tr>\n",
       "    <tr>\n",
       "      <th rowspan=\"4\" valign=\"top\">subject11</th>\n",
       "      <th>record-[2014.02.24-17.56.37]</th>\n",
       "      <td>98.750000</td>\n",
       "      <td>56.25</td>\n",
       "    </tr>\n",
       "    <tr>\n",
       "      <th>record-[2014.02.24-18.02.40]</th>\n",
       "      <td>99.166667</td>\n",
       "      <td>32.50</td>\n",
       "    </tr>\n",
       "    <tr>\n",
       "      <th>record-[2014.02.24-18.15.11]</th>\n",
       "      <td>98.750000</td>\n",
       "      <td>56.25</td>\n",
       "    </tr>\n",
       "    <tr>\n",
       "      <th>record-[2014.02.24-18.23.37]</th>\n",
       "      <td>96.250000</td>\n",
       "      <td>46.25</td>\n",
       "    </tr>\n",
       "    <tr>\n",
       "      <th rowspan=\"5\" valign=\"top\">subject12</th>\n",
       "      <th>record-[2014.03.10-19.17.37]</th>\n",
       "      <td>100.000000</td>\n",
       "      <td>86.25</td>\n",
       "    </tr>\n",
       "    <tr>\n",
       "      <th>record-[2014.03.10-19.47.49]</th>\n",
       "      <td>100.000000</td>\n",
       "      <td>56.25</td>\n",
       "    </tr>\n",
       "    <tr>\n",
       "      <th>record-[2014.03.10-20.11.55]</th>\n",
       "      <td>100.000000</td>\n",
       "      <td>58.75</td>\n",
       "    </tr>\n",
       "    <tr>\n",
       "      <th>record-[2014.03.10-20.26.46]</th>\n",
       "      <td>100.000000</td>\n",
       "      <td>65.00</td>\n",
       "    </tr>\n",
       "    <tr>\n",
       "      <th>record-[2014.03.10-20.41.35]</th>\n",
       "      <td>100.000000</td>\n",
       "      <td>67.50</td>\n",
       "    </tr>\n",
       "  </tbody>\n",
       "</table>\n",
       "</div>"
      ],
      "text/plain": [
       "                                        train accuracy  test accuracy\n",
       "subject01 record-[2012.07.06-19.02.16]       95.833333          22.50\n",
       "          record-[2012.07.06-19.06.14]       94.166667          32.50\n",
       "subject02 record-[2012.07.19-17.36.23]       97.916667          30.00\n",
       "          record-[2012.07.19-17.41.14]       94.583333          22.50\n",
       "subject03 record-[2012.07.11-15.25.23]       99.166667          41.25\n",
       "          record-[2012.07.11-15.33.08]      100.000000          50.00\n",
       "subject04 record-[2012.07.18-17.52.30]      100.000000          31.25\n",
       "          record-[2012.07.18-17.56.53]       97.916667          40.00\n",
       "subject05 record-[2012.07.19-11.24.02]       98.333333          27.50\n",
       "          record-[2012.07.19-11.28.18]       95.416667          43.75\n",
       "subject06 record-[2012.07.20-12.20.55]       94.166667          37.50\n",
       "          record-[2012.07.20-12.26.47]       98.333333          31.25\n",
       "subject07 record-[2012.07.11-15.33.08]      100.000000          47.50\n",
       "          record-[2012.07.18-09.15.30]      100.000000          36.25\n",
       "          record-[2012.07.18-09.21.13]       97.500000          38.75\n",
       "subject08 record-[2013.04.06-16.22.32]      100.000000          55.00\n",
       "          record-[2013.04.06-16.29.18]      100.000000          65.00\n",
       "          record-[2013.04.06-16.35.05]      100.000000          72.50\n",
       "subject09 record-[2013.04.09-17.32.29]      100.000000          51.25\n",
       "          record-[2013.04.09-17.39.37]       97.916667          26.25\n",
       "subject10 record-[2014.02.26-15.10.48]       98.750000          56.25\n",
       "          record-[2014.02.26-15.32.36]      100.000000          57.50\n",
       "          record-[2014.02.26-15.40.22]      100.000000          71.25\n",
       "          record-[2014.02.26-15.50.09]       97.916667          61.25\n",
       "          record-[2014.02.26-16.18.11]       97.916667          62.50\n",
       "          record-[2014.02.26-16.25.45]       99.166667          31.25\n",
       "subject11 record-[2014.02.24-17.56.37]       98.750000          56.25\n",
       "          record-[2014.02.24-18.02.40]       99.166667          32.50\n",
       "          record-[2014.02.24-18.15.11]       98.750000          56.25\n",
       "          record-[2014.02.24-18.23.37]       96.250000          46.25\n",
       "subject12 record-[2014.03.10-19.17.37]      100.000000          86.25\n",
       "          record-[2014.03.10-19.47.49]      100.000000          56.25\n",
       "          record-[2014.03.10-20.11.55]      100.000000          58.75\n",
       "          record-[2014.03.10-20.26.46]      100.000000          65.00\n",
       "          record-[2014.03.10-20.41.35]      100.000000          67.50"
      ]
     },
     "execution_count": 32,
     "metadata": {},
     "output_type": "execute_result"
    }
   ],
   "source": [
    "acc6 = pd.DataFrame(accuracies_)\n",
    "acc6.T"
   ]
  },
  {
   "cell_type": "code",
   "execution_count": 33,
   "metadata": {},
   "outputs": [
    {
     "name": "stdout",
     "output_type": "stream",
     "text": [
      "______________Subject :  subject01 ______________\n",
      "*****Record :  record-[2012.07.06-19.02.16] *****\n"
     ]
    },
    {
     "name": "stderr",
     "output_type": "stream",
     "text": [
      "100%|██████████| 10/10 [00:06<00:00,  1.53it/s]\n"
     ]
    },
    {
     "name": "stdout",
     "output_type": "stream",
     "text": [
      "Train Accuracy  =  92.5 %  +/-  1.92 %\n",
      "Test  Accuracy  =  27.5 %   +/-  20.77 %\n",
      "\n",
      "*****Record :  record-[2012.07.06-19.06.14] *****\n"
     ]
    },
    {
     "name": "stderr",
     "output_type": "stream",
     "text": [
      "100%|██████████| 10/10 [00:06<00:00,  1.45it/s]\n"
     ]
    },
    {
     "name": "stdout",
     "output_type": "stream",
     "text": [
      "Train Accuracy  =  95.0 %  +/-  2.86 %\n",
      "Test  Accuracy  =  30.0 %   +/-  15.0 %\n",
      "\n",
      "______________Subject :  subject02 ______________\n",
      "*****Record :  record-[2012.07.19-17.36.23] *****\n"
     ]
    },
    {
     "name": "stderr",
     "output_type": "stream",
     "text": [
      "100%|██████████| 10/10 [00:07<00:00,  1.36it/s]\n"
     ]
    },
    {
     "name": "stdout",
     "output_type": "stream",
     "text": [
      "Train Accuracy  =  97.5 %  +/-  2.29 %\n",
      "Test  Accuracy  =  25.0 %   +/-  15.81 %\n",
      "\n",
      "*****Record :  record-[2012.07.19-17.41.14] *****\n"
     ]
    },
    {
     "name": "stderr",
     "output_type": "stream",
     "text": [
      "100%|██████████| 10/10 [00:05<00:00,  1.74it/s]\n"
     ]
    },
    {
     "name": "stdout",
     "output_type": "stream",
     "text": [
      "Train Accuracy  =  93.93 %  +/-  2.79 %\n",
      "Test  Accuracy  =  20.0 %   +/-  15.0 %\n",
      "\n",
      "______________Subject :  subject03 ______________\n",
      "*****Record :  record-[2012.07.11-15.25.23] *****\n"
     ]
    },
    {
     "name": "stderr",
     "output_type": "stream",
     "text": [
      "100%|██████████| 10/10 [00:06<00:00,  1.66it/s]\n"
     ]
    },
    {
     "name": "stdout",
     "output_type": "stream",
     "text": [
      "Train Accuracy  =  100.0 %  +/-  0.0 %\n",
      "Test  Accuracy  =  37.5 %   +/-  16.77 %\n",
      "\n",
      "*****Record :  record-[2012.07.11-15.33.08] *****\n"
     ]
    },
    {
     "name": "stderr",
     "output_type": "stream",
     "text": [
      "100%|██████████| 10/10 [00:06<00:00,  1.66it/s]\n"
     ]
    },
    {
     "name": "stdout",
     "output_type": "stream",
     "text": [
      "Train Accuracy  =  99.64 %  +/-  1.07 %\n",
      "Test  Accuracy  =  57.5 %   +/-  19.53 %\n",
      "\n",
      "______________Subject :  subject04 ______________\n",
      "*****Record :  record-[2012.07.18-17.52.30] *****\n"
     ]
    },
    {
     "name": "stderr",
     "output_type": "stream",
     "text": [
      "100%|██████████| 10/10 [00:06<00:00,  1.58it/s]\n"
     ]
    },
    {
     "name": "stdout",
     "output_type": "stream",
     "text": [
      "Train Accuracy  =  100.0 %  +/-  0.0 %\n",
      "Test  Accuracy  =  40.0 %   +/-  22.91 %\n",
      "\n",
      "*****Record :  record-[2012.07.18-17.56.53] *****\n"
     ]
    },
    {
     "name": "stderr",
     "output_type": "stream",
     "text": [
      "100%|██████████| 10/10 [00:07<00:00,  1.34it/s]\n"
     ]
    },
    {
     "name": "stdout",
     "output_type": "stream",
     "text": [
      "Train Accuracy  =  99.29 %  +/-  1.43 %\n",
      "Test  Accuracy  =  45.0 %   +/-  21.79 %\n",
      "\n",
      "______________Subject :  subject05 ______________\n",
      "*****Record :  record-[2012.07.19-11.24.02] *****\n"
     ]
    },
    {
     "name": "stderr",
     "output_type": "stream",
     "text": [
      "100%|██████████| 10/10 [00:06<00:00,  1.46it/s]\n"
     ]
    },
    {
     "name": "stdout",
     "output_type": "stream",
     "text": [
      "Train Accuracy  =  97.14 %  +/-  1.43 %\n",
      "Test  Accuracy  =  40.0 %   +/-  16.58 %\n",
      "\n",
      "*****Record :  record-[2012.07.19-11.28.18] *****\n"
     ]
    },
    {
     "name": "stderr",
     "output_type": "stream",
     "text": [
      "100%|██████████| 10/10 [00:05<00:00,  1.78it/s]\n"
     ]
    },
    {
     "name": "stdout",
     "output_type": "stream",
     "text": [
      "Train Accuracy  =  91.43 %  +/-  2.86 %\n",
      "Test  Accuracy  =  57.5 %   +/-  22.5 %\n",
      "\n",
      "______________Subject :  subject06 ______________\n",
      "*****Record :  record-[2012.07.20-12.20.55] *****\n"
     ]
    },
    {
     "name": "stderr",
     "output_type": "stream",
     "text": [
      "100%|██████████| 10/10 [00:06<00:00,  1.66it/s]\n"
     ]
    },
    {
     "name": "stdout",
     "output_type": "stream",
     "text": [
      "Train Accuracy  =  94.64 %  +/-  2.88 %\n",
      "Test  Accuracy  =  50.0 %   +/-  22.36 %\n",
      "\n",
      "*****Record :  record-[2012.07.20-12.26.47] *****\n"
     ]
    },
    {
     "name": "stderr",
     "output_type": "stream",
     "text": [
      "100%|██████████| 10/10 [00:06<00:00,  1.60it/s]\n"
     ]
    },
    {
     "name": "stdout",
     "output_type": "stream",
     "text": [
      "Train Accuracy  =  98.93 %  +/-  2.29 %\n",
      "Test  Accuracy  =  40.0 %   +/-  16.58 %\n",
      "\n",
      "______________Subject :  subject07 ______________\n",
      "*****Record :  record-[2012.07.11-15.33.08] *****\n"
     ]
    },
    {
     "name": "stderr",
     "output_type": "stream",
     "text": [
      "100%|██████████| 10/10 [00:05<00:00,  1.71it/s]\n"
     ]
    },
    {
     "name": "stdout",
     "output_type": "stream",
     "text": [
      "Train Accuracy  =  99.29 %  +/-  1.43 %\n",
      "Test  Accuracy  =  47.5 %   +/-  23.58 %\n",
      "\n",
      "*****Record :  record-[2012.07.18-09.15.30] *****\n"
     ]
    },
    {
     "name": "stderr",
     "output_type": "stream",
     "text": [
      "100%|██████████| 10/10 [00:06<00:00,  1.62it/s]\n"
     ]
    },
    {
     "name": "stdout",
     "output_type": "stream",
     "text": [
      "Train Accuracy  =  100.0 %  +/-  0.0 %\n",
      "Test  Accuracy  =  35.0 %   +/-  16.58 %\n",
      "\n",
      "*****Record :  record-[2012.07.18-09.21.13] *****\n"
     ]
    },
    {
     "name": "stderr",
     "output_type": "stream",
     "text": [
      "100%|██████████| 10/10 [00:06<00:00,  1.66it/s]\n"
     ]
    },
    {
     "name": "stdout",
     "output_type": "stream",
     "text": [
      "Train Accuracy  =  99.64 %  +/-  1.07 %\n",
      "Test  Accuracy  =  37.5 %   +/-  20.16 %\n",
      "\n",
      "______________Subject :  subject08 ______________\n",
      "*****Record :  record-[2013.04.06-16.22.32] *****\n"
     ]
    },
    {
     "name": "stderr",
     "output_type": "stream",
     "text": [
      "100%|██████████| 10/10 [00:05<00:00,  1.69it/s]\n"
     ]
    },
    {
     "name": "stdout",
     "output_type": "stream",
     "text": [
      "Train Accuracy  =  100.0 %  +/-  0.0 %\n",
      "Test  Accuracy  =  55.0 %   +/-  18.71 %\n",
      "\n",
      "*****Record :  record-[2013.04.06-16.29.18] *****\n"
     ]
    },
    {
     "name": "stderr",
     "output_type": "stream",
     "text": [
      "100%|██████████| 10/10 [00:06<00:00,  1.63it/s]\n"
     ]
    },
    {
     "name": "stdout",
     "output_type": "stream",
     "text": [
      "Train Accuracy  =  100.0 %  +/-  0.0 %\n",
      "Test  Accuracy  =  67.5 %   +/-  19.53 %\n",
      "\n",
      "*****Record :  record-[2013.04.06-16.35.05] *****\n"
     ]
    },
    {
     "name": "stderr",
     "output_type": "stream",
     "text": [
      "100%|██████████| 10/10 [00:06<00:00,  1.65it/s]\n"
     ]
    },
    {
     "name": "stdout",
     "output_type": "stream",
     "text": [
      "Train Accuracy  =  100.0 %  +/-  0.0 %\n",
      "Test  Accuracy  =  70.0 %   +/-  18.71 %\n",
      "\n",
      "______________Subject :  subject09 ______________\n",
      "*****Record :  record-[2013.04.09-17.32.29] *****\n"
     ]
    },
    {
     "name": "stderr",
     "output_type": "stream",
     "text": [
      "100%|██████████| 10/10 [00:06<00:00,  1.59it/s]\n"
     ]
    },
    {
     "name": "stdout",
     "output_type": "stream",
     "text": [
      "Train Accuracy  =  100.0 %  +/-  0.0 %\n",
      "Test  Accuracy  =  57.5 %   +/-  16.01 %\n",
      "\n",
      "*****Record :  record-[2013.04.09-17.39.37] *****\n"
     ]
    },
    {
     "name": "stderr",
     "output_type": "stream",
     "text": [
      "100%|██████████| 10/10 [00:05<00:00,  1.68it/s]\n"
     ]
    },
    {
     "name": "stdout",
     "output_type": "stream",
     "text": [
      "Train Accuracy  =  96.43 %  +/-  0.0 %\n",
      "Test  Accuracy  =  35.0 %   +/-  20.0 %\n",
      "\n",
      "______________Subject :  subject10 ______________\n",
      "*****Record :  record-[2014.02.26-15.10.48] *****\n"
     ]
    },
    {
     "name": "stderr",
     "output_type": "stream",
     "text": [
      "100%|██████████| 10/10 [00:05<00:00,  1.67it/s]\n"
     ]
    },
    {
     "name": "stdout",
     "output_type": "stream",
     "text": [
      "Train Accuracy  =  98.57 %  +/-  1.75 %\n",
      "Test  Accuracy  =  65.0 %   +/-  20.0 %\n",
      "\n",
      "*****Record :  record-[2014.02.26-15.32.36] *****\n"
     ]
    },
    {
     "name": "stderr",
     "output_type": "stream",
     "text": [
      "100%|██████████| 10/10 [00:06<00:00,  1.53it/s]\n"
     ]
    },
    {
     "name": "stdout",
     "output_type": "stream",
     "text": [
      "Train Accuracy  =  100.0 %  +/-  0.0 %\n",
      "Test  Accuracy  =  65.0 %   +/-  16.58 %\n",
      "\n",
      "*****Record :  record-[2014.02.26-15.40.22] *****\n"
     ]
    },
    {
     "name": "stderr",
     "output_type": "stream",
     "text": [
      "100%|██████████| 10/10 [00:05<00:00,  1.71it/s]\n"
     ]
    },
    {
     "name": "stdout",
     "output_type": "stream",
     "text": [
      "Train Accuracy  =  99.64 %  +/-  1.07 %\n",
      "Test  Accuracy  =  70.0 %   +/-  15.0 %\n",
      "\n",
      "*****Record :  record-[2014.02.26-15.50.09] *****\n"
     ]
    },
    {
     "name": "stderr",
     "output_type": "stream",
     "text": [
      "100%|██████████| 10/10 [00:05<00:00,  1.69it/s]\n"
     ]
    },
    {
     "name": "stdout",
     "output_type": "stream",
     "text": [
      "Train Accuracy  =  97.86 %  +/-  1.75 %\n",
      "Test  Accuracy  =  67.5 %   +/-  25.12 %\n",
      "\n",
      "*****Record :  record-[2014.02.26-16.18.11] *****\n"
     ]
    },
    {
     "name": "stderr",
     "output_type": "stream",
     "text": [
      "100%|██████████| 10/10 [00:05<00:00,  1.79it/s]\n"
     ]
    },
    {
     "name": "stdout",
     "output_type": "stream",
     "text": [
      "Train Accuracy  =  97.86 %  +/-  1.75 %\n",
      "Test  Accuracy  =  65.0 %   +/-  16.58 %\n",
      "\n",
      "*****Record :  record-[2014.02.26-16.25.45] *****\n"
     ]
    },
    {
     "name": "stderr",
     "output_type": "stream",
     "text": [
      "100%|██████████| 10/10 [00:05<00:00,  1.80it/s]\n"
     ]
    },
    {
     "name": "stdout",
     "output_type": "stream",
     "text": [
      "Train Accuracy  =  98.93 %  +/-  1.64 %\n",
      "Test  Accuracy  =  22.5 %   +/-  17.5 %\n",
      "\n",
      "______________Subject :  subject11 ______________\n",
      "*****Record :  record-[2014.02.24-17.56.37] *****\n"
     ]
    },
    {
     "name": "stderr",
     "output_type": "stream",
     "text": [
      "100%|██████████| 10/10 [00:06<00:00,  1.52it/s]\n"
     ]
    },
    {
     "name": "stdout",
     "output_type": "stream",
     "text": [
      "Train Accuracy  =  94.29 %  +/-  1.75 %\n",
      "Test  Accuracy  =  62.5 %   +/-  12.5 %\n",
      "\n",
      "*****Record :  record-[2014.02.24-18.02.40] *****\n"
     ]
    },
    {
     "name": "stderr",
     "output_type": "stream",
     "text": [
      "100%|██████████| 10/10 [00:05<00:00,  1.75it/s]\n"
     ]
    },
    {
     "name": "stdout",
     "output_type": "stream",
     "text": [
      "Train Accuracy  =  98.93 %  +/-  1.64 %\n",
      "Test  Accuracy  =  40.0 %   +/-  20.0 %\n",
      "\n",
      "*****Record :  record-[2014.02.24-18.15.11] *****\n"
     ]
    },
    {
     "name": "stderr",
     "output_type": "stream",
     "text": [
      "100%|██████████| 10/10 [00:05<00:00,  1.77it/s]\n"
     ]
    },
    {
     "name": "stdout",
     "output_type": "stream",
     "text": [
      "Train Accuracy  =  99.64 %  +/-  1.07 %\n",
      "Test  Accuracy  =  65.0 %   +/-  22.91 %\n",
      "\n",
      "*****Record :  record-[2014.02.24-18.23.37] *****\n"
     ]
    },
    {
     "name": "stderr",
     "output_type": "stream",
     "text": [
      "100%|██████████| 10/10 [00:05<00:00,  1.78it/s]\n"
     ]
    },
    {
     "name": "stdout",
     "output_type": "stream",
     "text": [
      "Train Accuracy  =  96.43 %  +/-  3.19 %\n",
      "Test  Accuracy  =  62.5 %   +/-  25.62 %\n",
      "\n",
      "______________Subject :  subject12 ______________\n",
      "*****Record :  record-[2014.03.10-19.17.37] *****\n"
     ]
    },
    {
     "name": "stderr",
     "output_type": "stream",
     "text": [
      "100%|██████████| 10/10 [00:05<00:00,  1.76it/s]\n"
     ]
    },
    {
     "name": "stdout",
     "output_type": "stream",
     "text": [
      "Train Accuracy  =  100.0 %  +/-  0.0 %\n",
      "Test  Accuracy  =  87.5 %   +/-  16.77 %\n",
      "\n",
      "*****Record :  record-[2014.03.10-19.47.49] *****\n"
     ]
    },
    {
     "name": "stderr",
     "output_type": "stream",
     "text": [
      "100%|██████████| 10/10 [00:06<00:00,  1.62it/s]\n"
     ]
    },
    {
     "name": "stdout",
     "output_type": "stream",
     "text": [
      "Train Accuracy  =  100.0 %  +/-  0.0 %\n",
      "Test  Accuracy  =  77.5 %   +/-  13.46 %\n",
      "\n",
      "*****Record :  record-[2014.03.10-20.11.55] *****\n"
     ]
    },
    {
     "name": "stderr",
     "output_type": "stream",
     "text": [
      "100%|██████████| 10/10 [00:05<00:00,  1.68it/s]\n"
     ]
    },
    {
     "name": "stdout",
     "output_type": "stream",
     "text": [
      "Train Accuracy  =  100.0 %  +/-  0.0 %\n",
      "Test  Accuracy  =  72.5 %   +/-  17.5 %\n",
      "\n",
      "*****Record :  record-[2014.03.10-20.26.46] *****\n"
     ]
    },
    {
     "name": "stderr",
     "output_type": "stream",
     "text": [
      "100%|██████████| 10/10 [00:06<00:00,  1.60it/s]\n"
     ]
    },
    {
     "name": "stdout",
     "output_type": "stream",
     "text": [
      "Train Accuracy  =  100.0 %  +/-  0.0 %\n",
      "Test  Accuracy  =  70.0 %   +/-  21.79 %\n",
      "\n",
      "*****Record :  record-[2014.03.10-20.41.35] *****\n"
     ]
    },
    {
     "name": "stderr",
     "output_type": "stream",
     "text": [
      "100%|██████████| 10/10 [00:06<00:00,  1.67it/s]"
     ]
    },
    {
     "name": "stdout",
     "output_type": "stream",
     "text": [
      "Train Accuracy  =  100.0 %  +/-  0.0 %\n",
      "Test  Accuracy  =  75.0 %   +/-  15.81 %\n",
      "\n"
     ]
    },
    {
     "name": "stderr",
     "output_type": "stream",
     "text": [
      "\n"
     ]
    }
   ],
   "source": [
    "# 28 samples for train\n",
    "records = organize_data_into_dict()\n",
    "key_list =[]\n",
    "for subj in records.keys():\n",
    "    for session in range(len(records[subj])):\n",
    "        key_list.append((subj,records[subj][session]))\n",
    "accuracies_ = { x: {'train accuracy':0,'test accuracy':0} for x in key_list}\n",
    "for subj in records.keys():\n",
    "    print(\"______________Subject : \",subj,\"______________\")\n",
    "    for session in range(len(records[subj])):\n",
    "        print(\"*****Record : \",records[subj][session],\"*****\")\n",
    "        train,test = classify_single_recording_with_balanced_cross_val(subj,session,records,k=7,max_folds = 10)\n",
    "        accuracies_[(subj,records[subj][session])]['train accuracy'] = train\n",
    "        accuracies_[(subj,records[subj][session])]['test accuracy'] = test\n",
    "        print()"
   ]
  },
  {
   "cell_type": "code",
   "execution_count": 34,
   "metadata": {},
   "outputs": [
    {
     "data": {
      "text/html": [
       "<div>\n",
       "<style scoped>\n",
       "    .dataframe tbody tr th:only-of-type {\n",
       "        vertical-align: middle;\n",
       "    }\n",
       "\n",
       "    .dataframe tbody tr th {\n",
       "        vertical-align: top;\n",
       "    }\n",
       "\n",
       "    .dataframe thead th {\n",
       "        text-align: right;\n",
       "    }\n",
       "</style>\n",
       "<table border=\"1\" class=\"dataframe\">\n",
       "  <thead>\n",
       "    <tr style=\"text-align: right;\">\n",
       "      <th></th>\n",
       "      <th></th>\n",
       "      <th>train accuracy</th>\n",
       "      <th>test accuracy</th>\n",
       "    </tr>\n",
       "  </thead>\n",
       "  <tbody>\n",
       "    <tr>\n",
       "      <th rowspan=\"2\" valign=\"top\">subject01</th>\n",
       "      <th>record-[2012.07.06-19.02.16]</th>\n",
       "      <td>92.500000</td>\n",
       "      <td>27.5</td>\n",
       "    </tr>\n",
       "    <tr>\n",
       "      <th>record-[2012.07.06-19.06.14]</th>\n",
       "      <td>95.000000</td>\n",
       "      <td>30.0</td>\n",
       "    </tr>\n",
       "    <tr>\n",
       "      <th rowspan=\"2\" valign=\"top\">subject02</th>\n",
       "      <th>record-[2012.07.19-17.36.23]</th>\n",
       "      <td>97.500000</td>\n",
       "      <td>25.0</td>\n",
       "    </tr>\n",
       "    <tr>\n",
       "      <th>record-[2012.07.19-17.41.14]</th>\n",
       "      <td>93.928571</td>\n",
       "      <td>20.0</td>\n",
       "    </tr>\n",
       "    <tr>\n",
       "      <th rowspan=\"2\" valign=\"top\">subject03</th>\n",
       "      <th>record-[2012.07.11-15.25.23]</th>\n",
       "      <td>100.000000</td>\n",
       "      <td>37.5</td>\n",
       "    </tr>\n",
       "    <tr>\n",
       "      <th>record-[2012.07.11-15.33.08]</th>\n",
       "      <td>99.642857</td>\n",
       "      <td>57.5</td>\n",
       "    </tr>\n",
       "    <tr>\n",
       "      <th rowspan=\"2\" valign=\"top\">subject04</th>\n",
       "      <th>record-[2012.07.18-17.52.30]</th>\n",
       "      <td>100.000000</td>\n",
       "      <td>40.0</td>\n",
       "    </tr>\n",
       "    <tr>\n",
       "      <th>record-[2012.07.18-17.56.53]</th>\n",
       "      <td>99.285714</td>\n",
       "      <td>45.0</td>\n",
       "    </tr>\n",
       "    <tr>\n",
       "      <th rowspan=\"2\" valign=\"top\">subject05</th>\n",
       "      <th>record-[2012.07.19-11.24.02]</th>\n",
       "      <td>97.142857</td>\n",
       "      <td>40.0</td>\n",
       "    </tr>\n",
       "    <tr>\n",
       "      <th>record-[2012.07.19-11.28.18]</th>\n",
       "      <td>91.428571</td>\n",
       "      <td>57.5</td>\n",
       "    </tr>\n",
       "    <tr>\n",
       "      <th rowspan=\"2\" valign=\"top\">subject06</th>\n",
       "      <th>record-[2012.07.20-12.20.55]</th>\n",
       "      <td>94.642857</td>\n",
       "      <td>50.0</td>\n",
       "    </tr>\n",
       "    <tr>\n",
       "      <th>record-[2012.07.20-12.26.47]</th>\n",
       "      <td>98.928571</td>\n",
       "      <td>40.0</td>\n",
       "    </tr>\n",
       "    <tr>\n",
       "      <th rowspan=\"3\" valign=\"top\">subject07</th>\n",
       "      <th>record-[2012.07.11-15.33.08]</th>\n",
       "      <td>99.285714</td>\n",
       "      <td>47.5</td>\n",
       "    </tr>\n",
       "    <tr>\n",
       "      <th>record-[2012.07.18-09.15.30]</th>\n",
       "      <td>100.000000</td>\n",
       "      <td>35.0</td>\n",
       "    </tr>\n",
       "    <tr>\n",
       "      <th>record-[2012.07.18-09.21.13]</th>\n",
       "      <td>99.642857</td>\n",
       "      <td>37.5</td>\n",
       "    </tr>\n",
       "    <tr>\n",
       "      <th rowspan=\"3\" valign=\"top\">subject08</th>\n",
       "      <th>record-[2013.04.06-16.22.32]</th>\n",
       "      <td>100.000000</td>\n",
       "      <td>55.0</td>\n",
       "    </tr>\n",
       "    <tr>\n",
       "      <th>record-[2013.04.06-16.29.18]</th>\n",
       "      <td>100.000000</td>\n",
       "      <td>67.5</td>\n",
       "    </tr>\n",
       "    <tr>\n",
       "      <th>record-[2013.04.06-16.35.05]</th>\n",
       "      <td>100.000000</td>\n",
       "      <td>70.0</td>\n",
       "    </tr>\n",
       "    <tr>\n",
       "      <th rowspan=\"2\" valign=\"top\">subject09</th>\n",
       "      <th>record-[2013.04.09-17.32.29]</th>\n",
       "      <td>100.000000</td>\n",
       "      <td>57.5</td>\n",
       "    </tr>\n",
       "    <tr>\n",
       "      <th>record-[2013.04.09-17.39.37]</th>\n",
       "      <td>96.428571</td>\n",
       "      <td>35.0</td>\n",
       "    </tr>\n",
       "    <tr>\n",
       "      <th rowspan=\"6\" valign=\"top\">subject10</th>\n",
       "      <th>record-[2014.02.26-15.10.48]</th>\n",
       "      <td>98.571429</td>\n",
       "      <td>65.0</td>\n",
       "    </tr>\n",
       "    <tr>\n",
       "      <th>record-[2014.02.26-15.32.36]</th>\n",
       "      <td>100.000000</td>\n",
       "      <td>65.0</td>\n",
       "    </tr>\n",
       "    <tr>\n",
       "      <th>record-[2014.02.26-15.40.22]</th>\n",
       "      <td>99.642857</td>\n",
       "      <td>70.0</td>\n",
       "    </tr>\n",
       "    <tr>\n",
       "      <th>record-[2014.02.26-15.50.09]</th>\n",
       "      <td>97.857143</td>\n",
       "      <td>67.5</td>\n",
       "    </tr>\n",
       "    <tr>\n",
       "      <th>record-[2014.02.26-16.18.11]</th>\n",
       "      <td>97.857143</td>\n",
       "      <td>65.0</td>\n",
       "    </tr>\n",
       "    <tr>\n",
       "      <th>record-[2014.02.26-16.25.45]</th>\n",
       "      <td>98.928571</td>\n",
       "      <td>22.5</td>\n",
       "    </tr>\n",
       "    <tr>\n",
       "      <th rowspan=\"4\" valign=\"top\">subject11</th>\n",
       "      <th>record-[2014.02.24-17.56.37]</th>\n",
       "      <td>94.285714</td>\n",
       "      <td>62.5</td>\n",
       "    </tr>\n",
       "    <tr>\n",
       "      <th>record-[2014.02.24-18.02.40]</th>\n",
       "      <td>98.928571</td>\n",
       "      <td>40.0</td>\n",
       "    </tr>\n",
       "    <tr>\n",
       "      <th>record-[2014.02.24-18.15.11]</th>\n",
       "      <td>99.642857</td>\n",
       "      <td>65.0</td>\n",
       "    </tr>\n",
       "    <tr>\n",
       "      <th>record-[2014.02.24-18.23.37]</th>\n",
       "      <td>96.428571</td>\n",
       "      <td>62.5</td>\n",
       "    </tr>\n",
       "    <tr>\n",
       "      <th rowspan=\"5\" valign=\"top\">subject12</th>\n",
       "      <th>record-[2014.03.10-19.17.37]</th>\n",
       "      <td>100.000000</td>\n",
       "      <td>87.5</td>\n",
       "    </tr>\n",
       "    <tr>\n",
       "      <th>record-[2014.03.10-19.47.49]</th>\n",
       "      <td>100.000000</td>\n",
       "      <td>77.5</td>\n",
       "    </tr>\n",
       "    <tr>\n",
       "      <th>record-[2014.03.10-20.11.55]</th>\n",
       "      <td>100.000000</td>\n",
       "      <td>72.5</td>\n",
       "    </tr>\n",
       "    <tr>\n",
       "      <th>record-[2014.03.10-20.26.46]</th>\n",
       "      <td>100.000000</td>\n",
       "      <td>70.0</td>\n",
       "    </tr>\n",
       "    <tr>\n",
       "      <th>record-[2014.03.10-20.41.35]</th>\n",
       "      <td>100.000000</td>\n",
       "      <td>75.0</td>\n",
       "    </tr>\n",
       "  </tbody>\n",
       "</table>\n",
       "</div>"
      ],
      "text/plain": [
       "                                        train accuracy  test accuracy\n",
       "subject01 record-[2012.07.06-19.02.16]       92.500000           27.5\n",
       "          record-[2012.07.06-19.06.14]       95.000000           30.0\n",
       "subject02 record-[2012.07.19-17.36.23]       97.500000           25.0\n",
       "          record-[2012.07.19-17.41.14]       93.928571           20.0\n",
       "subject03 record-[2012.07.11-15.25.23]      100.000000           37.5\n",
       "          record-[2012.07.11-15.33.08]       99.642857           57.5\n",
       "subject04 record-[2012.07.18-17.52.30]      100.000000           40.0\n",
       "          record-[2012.07.18-17.56.53]       99.285714           45.0\n",
       "subject05 record-[2012.07.19-11.24.02]       97.142857           40.0\n",
       "          record-[2012.07.19-11.28.18]       91.428571           57.5\n",
       "subject06 record-[2012.07.20-12.20.55]       94.642857           50.0\n",
       "          record-[2012.07.20-12.26.47]       98.928571           40.0\n",
       "subject07 record-[2012.07.11-15.33.08]       99.285714           47.5\n",
       "          record-[2012.07.18-09.15.30]      100.000000           35.0\n",
       "          record-[2012.07.18-09.21.13]       99.642857           37.5\n",
       "subject08 record-[2013.04.06-16.22.32]      100.000000           55.0\n",
       "          record-[2013.04.06-16.29.18]      100.000000           67.5\n",
       "          record-[2013.04.06-16.35.05]      100.000000           70.0\n",
       "subject09 record-[2013.04.09-17.32.29]      100.000000           57.5\n",
       "          record-[2013.04.09-17.39.37]       96.428571           35.0\n",
       "subject10 record-[2014.02.26-15.10.48]       98.571429           65.0\n",
       "          record-[2014.02.26-15.32.36]      100.000000           65.0\n",
       "          record-[2014.02.26-15.40.22]       99.642857           70.0\n",
       "          record-[2014.02.26-15.50.09]       97.857143           67.5\n",
       "          record-[2014.02.26-16.18.11]       97.857143           65.0\n",
       "          record-[2014.02.26-16.25.45]       98.928571           22.5\n",
       "subject11 record-[2014.02.24-17.56.37]       94.285714           62.5\n",
       "          record-[2014.02.24-18.02.40]       98.928571           40.0\n",
       "          record-[2014.02.24-18.15.11]       99.642857           65.0\n",
       "          record-[2014.02.24-18.23.37]       96.428571           62.5\n",
       "subject12 record-[2014.03.10-19.17.37]      100.000000           87.5\n",
       "          record-[2014.03.10-19.47.49]      100.000000           77.5\n",
       "          record-[2014.03.10-20.11.55]      100.000000           72.5\n",
       "          record-[2014.03.10-20.26.46]      100.000000           70.0\n",
       "          record-[2014.03.10-20.41.35]      100.000000           75.0"
      ]
     },
     "execution_count": 34,
     "metadata": {},
     "output_type": "execute_result"
    }
   ],
   "source": [
    "acc7 = pd.DataFrame(accuracies_)\n",
    "acc7.T"
   ]
  },
  {
   "cell_type": "code",
   "execution_count": null,
   "metadata": {},
   "outputs": [],
   "source": []
  }
 ],
 "metadata": {
  "kernelspec": {
   "display_name": "Python 3",
   "language": "python",
   "name": "python3"
  },
  "language_info": {
   "codemirror_mode": {
    "name": "ipython",
    "version": 3
   },
   "file_extension": ".py",
   "mimetype": "text/x-python",
   "name": "python",
   "nbconvert_exporter": "python",
   "pygments_lexer": "ipython3",
   "version": "3.8.5"
  }
 },
 "nbformat": 4,
 "nbformat_minor": 4
}
