{
 "cells": [
  {
   "cell_type": "markdown",
   "metadata": {},
   "source": [
    "# SSVEP Classification :\n",
    "\n",
    "This notebook uses already-implemented functions and classes, presented in \"SSVEP.py\""
   ]
  },
  {
   "cell_type": "code",
   "execution_count": 1,
   "metadata": {},
   "outputs": [],
   "source": [
    "import numpy as np\n",
    "import pandas as pd\n",
    "import seaborn as sns\n",
    "import matplotlib.pyplot as plt\n",
    "from SSVEP1 import SsvepLoading,TrialsBuilding,Classify\n",
    "from SSVEP1 import Covariances"
   ]
  },
  {
   "cell_type": "code",
   "execution_count": 2,
   "metadata": {},
   "outputs": [],
   "source": [
    "#1. Load data\n",
    "\n",
    "data_path = 'ssvep_dataset/'\n",
    "subj_list,records = SsvepLoading(data_path)"
   ]
  },
  {
   "cell_type": "code",
   "execution_count": 3,
   "metadata": {},
   "outputs": [],
   "source": [
    "#2. Builds covariances and labels\n",
    "\n",
    "subject = 0 #chosse the subject to study\n",
    "nb_classes = 4 #if you want to exclude \"resting\", set nb_classes to 3\n",
    "TrialsBuild = TrialsBuilding(data_path,records,subj_list,subject,nb_classes)\n",
    "extended_trials,labels =TrialsBuild.extended_trials_and_labels_all_sessions() \n",
    "covs = Covariances(estimator=\"scm\").transform(extended_trials)# for all sessions of the chosen subject"
   ]
  },
  {
   "cell_type": "code",
   "execution_count": 4,
   "metadata": {},
   "outputs": [
    {
     "name": "stdout",
     "output_type": "stream",
     "text": [
      "Chosen subject        =  subject01\n",
      "Number of sessions    =  2\n",
      "Shape of ext_trials   =  (64, 24, 768)\n",
      "Shape of cov matrix   =  (64, 24, 24)\n",
      "Number of all samples =  64\n"
     ]
    }
   ],
   "source": [
    "print(\"Chosen subject        = \", subj_list[subject])\n",
    "print(\"Number of sessions    = \", len(records[subject]))\n",
    "print(\"Shape of ext_trials   = \",extended_trials.shape)\n",
    "print(\"Shape of cov matrix   = \",covs.shape)\n",
    "print(\"Number of all samples = \", len(labels))"
   ]
  },
  {
   "cell_type": "code",
   "execution_count": 9,
   "metadata": {},
   "outputs": [
    {
     "name": "stdout",
     "output_type": "stream",
     "text": [
      "[0.984375  0.984375  0.984375  0.9921875 0.953125 ]\n",
      "[0.84375 0.84375 0.78125 0.9375  0.90625]\n",
      "Training Accuracy =  97.97 %  [+/-  1.36 % ]\n",
      "Testing  Accuracy =  86.25 %  [+/-  5.45 % ]\n"
     ]
    }
   ],
   "source": [
    "#3.Classify \n",
    "\n",
    "method = \"MDM\"\n",
    "nb_trains = len(records[subject])-1\n",
    "classif = Classify(method,covs,labels,nb_trains,nb_classes)\n",
    "train_acc,test_acc = classif.accuracies()\n",
    "print(train_acc)\n",
    "print(test_acc)\n",
    "print(\"Training Accuracy = \",round(100*np.mean(train_acc),2),\"%  [+/- \",round(100*np.std(train_acc),2),\"% ]\")\n",
    "print(\"Testing  Accuracy = \",round(100*np.mean(test_acc),2),\"%  [+/- \",round(100*np.std(test_acc),2),\"% ]\")"
   ]
  },
  {
   "cell_type": "markdown",
   "metadata": {},
   "source": [
    "## Results for each subject : "
   ]
  },
  {
   "cell_type": "code",
   "execution_count": 8,
   "metadata": {},
   "outputs": [
    {
     "name": "stdout",
     "output_type": "stream",
     "text": [
      "-------------- subject01 --------------\n",
      "nb_trains =  1  over  2  sessions\n",
      "Training Accuracy =  92.19 %  [+/-  1.56 % ]\n",
      "Testing  Accuracy =  26.56 %  [+/-  1.56 % ]\n",
      "\n",
      "-------------- subject02 --------------\n",
      "nb_trains =  1  over  2  sessions\n",
      "Training Accuracy =  93.75 %  [+/-  3.12 % ]\n",
      "Testing  Accuracy =  37.5 %  [+/-  3.12 % ]\n",
      "\n",
      "-------------- subject03 --------------\n",
      "nb_trains =  1  over  2  sessions\n",
      "Training Accuracy =  98.44 %  [+/-  1.56 % ]\n",
      "Testing  Accuracy =  62.5 %  [+/-  6.25 % ]\n",
      "\n",
      "-------------- subject04 --------------\n",
      "nb_trains =  1  over  2  sessions\n",
      "Training Accuracy =  100.0 %  [+/-  0.0 % ]\n",
      "Testing  Accuracy =  56.25 %  [+/-  6.25 % ]\n",
      "\n",
      "-------------- subject05 --------------\n",
      "nb_trains =  1  over  2  sessions\n",
      "Training Accuracy =  93.75 %  [+/-  3.12 % ]\n",
      "Testing  Accuracy =  42.19 %  [+/-  1.56 % ]\n",
      "\n",
      "-------------- subject06 --------------\n",
      "nb_trains =  1  over  2  sessions\n",
      "Training Accuracy =  96.88 %  [+/-  0.0 % ]\n",
      "Testing  Accuracy =  43.75 %  [+/-  3.12 % ]\n",
      "\n",
      "-------------- subject07 --------------\n",
      "nb_trains =  2  over  3  sessions\n",
      "Training Accuracy =  95.31 %  [+/-  3.38 % ]\n",
      "Testing  Accuracy =  60.42 %  [+/-  14.05 % ]\n",
      "\n",
      "-------------- subject08 --------------\n",
      "nb_trains =  2  over  3  sessions\n",
      "Training Accuracy =  97.4 %  [+/-  0.74 % ]\n",
      "Testing  Accuracy =  65.62 %  [+/-  4.42 % ]\n",
      "\n",
      "-------------- subject09 --------------\n",
      "nb_trains =  1  over  2  sessions\n",
      "Training Accuracy =  98.44 %  [+/-  1.56 % ]\n",
      "Testing  Accuracy =  59.38 %  [+/-  6.25 % ]\n",
      "\n",
      "-------------- subject10 --------------\n",
      "nb_trains =  5  over  6  sessions\n",
      "Training Accuracy =  86.67 %  [+/-  2.19 % ]\n",
      "Testing  Accuracy =  60.42 %  [+/-  9.66 % ]\n",
      "\n",
      "-------------- subject11 --------------\n",
      "nb_trains =  3  over  4  sessions\n",
      "Training Accuracy =  85.94 %  [+/-  2.15 % ]\n",
      "Testing  Accuracy =  42.19 %  [+/-  10.48 % ]\n",
      "\n",
      "-------------- subject12 --------------\n",
      "nb_trains =  4  over  5  sessions\n",
      "Training Accuracy =  97.97 %  [+/-  1.36 % ]\n",
      "Testing  Accuracy =  86.25 %  [+/-  5.45 % ]\n",
      "\n"
     ]
    }
   ],
   "source": [
    "## EXPERIMENT 1 : 4 classes + MDM + nb_trains=total_sessions-1\n",
    "\n",
    "results01 =  []\n",
    "nb_classes = 4 #if you want to exclude \"resting\", set nb_classes to 3\n",
    "method = \"MDM\"\n",
    "\n",
    "for subject in range(len(subj_list)):\n",
    "    print(\"--------------\",subj_list[subject],\"--------------\")\n",
    "    TrialsBuild = TrialsBuilding(data_path,records,subj_list,subject,nb_classes)\n",
    "    extended_trials,labels =TrialsBuild.extended_trials_and_labels_all_sessions() \n",
    "    covs = Covariances(estimator=\"scm\").transform(extended_trials)# for all sessions of the chosen subject\n",
    "    nb_trains = len(records[subject])-1\n",
    "    print(\"nb_trains = \",nb_trains,\" over \",len(records[subject]),\" sessions\")\n",
    "    classif = Classify(method,covs,labels,nb_trains,nb_classes)\n",
    "    train_acc,test_acc = classif.accuracies()\n",
    "    print(\"Training Accuracy = \",round(100*np.mean(train_acc),2),\"%  [+/- \",round(100*np.std(train_acc),2),\"% ]\")\n",
    "    print(\"Testing  Accuracy = \",round(100*np.mean(test_acc),2),\"%  [+/- \",round(100*np.std(test_acc),2),\"% ]\")\n",
    "    \n",
    "    results01.append(test_acc)\n",
    "    \n",
    "    print()"
   ]
  },
  {
   "cell_type": "code",
   "execution_count": 7,
   "metadata": {},
   "outputs": [
    {
     "name": "stdout",
     "output_type": "stream",
     "text": [
      "-------------- subject01 --------------\n",
      "nb_trains =  1  over  2  sessions\n",
      "Training Accuracy =  100.0 %  [+/-  0.0 % ]\n",
      "Testing  Accuracy =  32.81 %  [+/-  1.56 % ]\n",
      "\n",
      "-------------- subject02 --------------\n",
      "nb_trains =  1  over  2  sessions\n",
      "Training Accuracy =  100.0 %  [+/-  0.0 % ]\n",
      "Testing  Accuracy =  25.0 %  [+/-  6.25 % ]\n",
      "\n",
      "-------------- subject03 --------------\n",
      "nb_trains =  1  over  2  sessions\n",
      "Training Accuracy =  100.0 %  [+/-  0.0 % ]\n",
      "Testing  Accuracy =  71.88 %  [+/-  3.12 % ]\n",
      "\n",
      "-------------- subject04 --------------\n",
      "nb_trains =  1  over  2  sessions\n",
      "Training Accuracy =  100.0 %  [+/-  0.0 % ]\n",
      "Testing  Accuracy =  54.69 %  [+/-  1.56 % ]\n",
      "\n",
      "-------------- subject05 --------------\n",
      "nb_trains =  1  over  2  sessions\n",
      "Training Accuracy =  100.0 %  [+/-  0.0 % ]\n",
      "Testing  Accuracy =  45.31 %  [+/-  1.56 % ]\n",
      "\n",
      "-------------- subject06 --------------\n",
      "nb_trains =  1  over  2  sessions\n",
      "Training Accuracy =  100.0 %  [+/-  0.0 % ]\n",
      "Testing  Accuracy =  53.12 %  [+/-  6.25 % ]\n",
      "\n",
      "-------------- subject07 --------------\n",
      "nb_trains =  2  over  3  sessions\n",
      "Training Accuracy =  100.0 %  [+/-  0.0 % ]\n",
      "Testing  Accuracy =  69.79 %  [+/-  10.31 % ]\n",
      "\n",
      "-------------- subject08 --------------\n",
      "nb_trains =  2  over  3  sessions\n",
      "Training Accuracy =  100.0 %  [+/-  0.0 % ]\n",
      "Testing  Accuracy =  65.62 %  [+/-  6.75 % ]\n",
      "\n",
      "-------------- subject09 --------------\n",
      "nb_trains =  1  over  2  sessions\n",
      "Training Accuracy =  100.0 %  [+/-  0.0 % ]\n",
      "Testing  Accuracy =  60.94 %  [+/-  4.69 % ]\n",
      "\n",
      "-------------- subject10 --------------\n",
      "nb_trains =  5  over  6  sessions\n",
      "Training Accuracy =  100.0 %  [+/-  0.0 % ]\n",
      "Testing  Accuracy =  54.17 %  [+/-  8.78 % ]\n",
      "\n",
      "-------------- subject11 --------------\n",
      "nb_trains =  3  over  4  sessions\n",
      "Training Accuracy =  100.0 %  [+/-  0.0 % ]\n",
      "Testing  Accuracy =  48.44 %  [+/-  5.63 % ]\n",
      "\n",
      "-------------- subject12 --------------\n",
      "nb_trains =  4  over  5  sessions\n",
      "Training Accuracy =  100.0 %  [+/-  0.0 % ]\n",
      "Testing  Accuracy =  87.5 %  [+/-  1.98 % ]\n",
      "\n"
     ]
    }
   ],
   "source": [
    "## EXPERIMENT 1 : 4 classes + TangentSpace + nb_trains=total_sessions-1\n",
    "\n",
    "results01 =  []\n",
    "nb_classes = 4 #if you want to exclude \"resting\", set nb_classes to 3\n",
    "method = \"TangentSpace\"\n",
    "\n",
    "for subject in range(len(subj_list)):\n",
    "    print(\"--------------\",subj_list[subject],\"--------------\")\n",
    "    TrialsBuild = TrialsBuilding(data_path,records,subj_list,subject,nb_classes)\n",
    "    extended_trials,labels =TrialsBuild.extended_trials_and_labels_all_sessions() \n",
    "    covs = Covariances(estimator=\"scm\").transform(extended_trials)# for all sessions of the chosen subject\n",
    "    nb_trains = len(records[subject])-1\n",
    "    print(\"nb_trains = \",nb_trains,\" over \",len(records[subject]),\" sessions\")\n",
    "    classif = Classify(method,covs,labels,nb_trains,nb_classes)\n",
    "    train_acc,test_acc = classif.accuracies()\n",
    "    print(\"Training Accuracy = \",round(100*np.mean(train_acc),2),\"%  [+/- \",round(100*np.std(train_acc),2),\"% ]\")\n",
    "    print(\"Testing  Accuracy = \",round(100*np.mean(test_acc),2),\"%  [+/- \",round(100*np.std(test_acc),2),\"% ]\")\n",
    "    \n",
    "    results01.append(test_acc)\n",
    "    \n",
    "    print()"
   ]
  },
  {
   "cell_type": "code",
   "execution_count": null,
   "metadata": {},
   "outputs": [],
   "source": []
  }
 ],
 "metadata": {
  "kernelspec": {
   "display_name": "Python 3",
   "language": "python",
   "name": "python3"
  },
  "language_info": {
   "codemirror_mode": {
    "name": "ipython",
    "version": 3
   },
   "file_extension": ".py",
   "mimetype": "text/x-python",
   "name": "python",
   "nbconvert_exporter": "python",
   "pygments_lexer": "ipython3",
   "version": "3.8.5"
  }
 },
 "nbformat": 4,
 "nbformat_minor": 4
}
