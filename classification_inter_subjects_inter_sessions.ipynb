{
 "cells": [
  {
   "cell_type": "code",
   "execution_count": 58,
   "metadata": {},
   "outputs": [],
   "source": [
    "import numpy as np\n",
    "from SSVEP import SSVEP"
   ]
  },
  {
   "cell_type": "code",
   "execution_count": 62,
   "metadata": {},
   "outputs": [
    {
     "name": "stdout",
     "output_type": "stream",
     "text": [
      "5\n",
      "Train Mean/std (%) =  82.03349282296651  /  0.9274078608815769\n",
      "Test  Mean/std (%) =  63.473684210526315  /  9.610705019379646\n"
     ]
    }
   ],
   "source": [
    "#verify that the code works\n",
    "\n",
    "selection={0:[0],11:[0,1]}\n",
    "data_path = 'ssvep_dataset/'\n",
    "\n",
    "ssvep = SSVEP(data_path,selection)\n",
    "\n",
    "#print(ssvep.nb_selected_recordings)\n",
    "train_ratio = 0.8\n",
    "n_splits = int(1/(1-train_ratio)) #test_size = total/n_splits\n",
    "#print(n_splits)\n",
    "train_acc,test_acc = ssvep.CovGeoMDM(n_splits=n_splits,shuffle=True)\n",
    "#print('Train Accuracy = ',train_acc)\n",
    "#print('Test  Accuracy = ',test_acc)\n",
    "print('Train Mean/std (%) = ',np.mean(train_acc),' / ',np.std(train_acc))\n",
    "print('Test  Mean/std (%) = ',np.mean(test_acc),' / ',np.std(test_acc))"
   ]
  },
  {
   "cell_type": "code",
   "execution_count": 68,
   "metadata": {},
   "outputs": [],
   "source": [
    "class_ = SSVEP(data_path,{})\n",
    "records = class_.records\n",
    "subj_list =class_.subj_list"
   ]
  },
  {
   "cell_type": "code",
   "execution_count": 65,
   "metadata": {},
   "outputs": [
    {
     "name": "stdout",
     "output_type": "stream",
     "text": [
      "____________Subject 0 ____________\n",
      "Train Mean/std (%) =  86.74962292609352  /  6.0154150141850975\n",
      "Test  Mean/std (%) =  38.717948717948715  /  15.772878460748409\n",
      "____________Subject 1 ____________\n",
      "Train Mean/std (%) =  91.39517345399699  /  2.9560670359411736\n",
      "Test  Mean/std (%) =  40.38461538461539  /  11.792084397504533\n",
      "____________Subject 2 ____________\n",
      "Train Mean/std (%) =  99.6078431372549  /  0.7843137254901933\n",
      "Test  Mean/std (%) =  62.69230769230769  /  9.699630933014225\n",
      "____________Subject 3 ____________\n",
      "Train Mean/std (%) =  96.47812971342384  /  1.4754338700101353\n",
      "Test  Mean/std (%) =  43.717948717948715  /  7.5673613145506184\n",
      "____________Subject 4 ____________\n",
      "Train Mean/std (%) =  92.58672699849168  /  3.1097603066613533\n",
      "Test  Mean/std (%) =  51.53846153846155  /  3.076923076923077\n",
      "____________Subject 5 ____________\n",
      "Train Mean/std (%) =  90.61085972850678  /  4.2063604124839635\n",
      "Test  Mean/std (%) =  37.82051282051282  /  13.604249635776728\n",
      "____________Subject 6 ____________\n",
      "Train Mean/std (%) =  95.83732057416267  /  1.2641369414509618\n",
      "Test  Mean/std (%) =  61.578947368421055  /  6.982367979695578\n",
      "____________Subject 7 ____________\n",
      "Train Mean/std (%) =  95.05126452494873  /  2.8937016825478117\n",
      "Test  Mean/std (%) =  69.84210526315789  /  10.002215820988862\n",
      "____________Subject 8 ____________\n",
      "Train Mean/std (%) =  95.3242835595777  /  5.330923610868104\n",
      "Test  Mean/std (%) =  48.46153846153846  /  14.915938022819471\n",
      "____________Subject 9 ____________\n",
      "Train Mean/std (%) =  87.23453017570664  /  2.899992556438495\n",
      "Test  Mean/std (%) =  66.12685560053981  /  8.366309660146763\n",
      "____________Subject 10 ____________\n",
      "Train Mean/std (%) =  85.73577003616981  /  3.151897963721792\n",
      "Test  Mean/std (%) =  52.36923076923076  /  2.311995986974671\n",
      "____________Subject 11 ____________\n",
      "Train Mean/std (%) =  97.65625  /  1.2103072956898178\n",
      "Test  Mean/std (%) =  88.75  /  4.238956239453293\n"
     ]
    }
   ],
   "source": [
    "#cross-session classification for each subject\n",
    "\n",
    "for i in range(len(subj_list)):\n",
    "    selection = {i:[j for j in range(len(records[subj_list[i]]))]}\n",
    "    ssvep = SSVEP(data_path,selection)\n",
    "    print(\"____________Subject\",i,\"____________\")\n",
    "    #print(selection)\n",
    "    train_ratio = 0.8\n",
    "    n_splits = int(1/(1-train_ratio)) #test_size = total/n_splits\n",
    "    #print(n_splits)\n",
    "    train_acc,test_acc = ssvep.CovGeoMDM(n_splits=n_splits,shuffle=True)\n",
    "    #print('Train Accuracy = ',train_acc)\n",
    "    #print('Test  Accuracy = ',test_acc)\n",
    "    print('Train Mean/std (%) = ',np.mean(train_acc),' / ',np.std(train_acc))\n",
    "    print('Test  Mean/std (%) = ',np.mean(test_acc),' / ',np.std(test_acc))\n",
    "    \n"
   ]
  },
  {
   "cell_type": "code",
   "execution_count": 70,
   "metadata": {},
   "outputs": [
    {
     "name": "stdout",
     "output_type": "stream",
     "text": [
      "35\n",
      "Train Mean/std (%) =  64.375  /  1.64392434281446\n",
      "Test  Mean/std (%) =  56.25  /  2.7807877682852564\n"
     ]
    }
   ],
   "source": [
    "#all selected\n",
    "\n",
    "selection = {i:[j for j in range(len(records[subj_list[i]]))] for i in range(len(subj_list))}\n",
    "ssvep = SSVEP(data_path,selection)\n",
    "print(ssvep.nb_selected_recordings)\n",
    "train_ratio = 0.8\n",
    "n_splits = int(1/(1-train_ratio)) #test_size = total/n_splits\n",
    "#print(n_splits)\n",
    "train_acc,test_acc = ssvep.CovGeoMDM(n_splits=n_splits,shuffle=True)\n",
    "#print('Train Accuracy = ',train_acc)\n",
    "#print('Test  Accuracy = ',test_acc)\n",
    "print('Train Mean/std (%) = ',np.mean(train_acc),' / ',np.std(train_acc))\n",
    "print('Test  Mean/std (%) = ',np.mean(test_acc),' / ',np.std(test_acc))"
   ]
  },
  {
   "cell_type": "code",
   "execution_count": null,
   "metadata": {},
   "outputs": [],
   "source": []
  }
 ],
 "metadata": {
  "kernelspec": {
   "display_name": "Python 3",
   "language": "python",
   "name": "python3"
  },
  "language_info": {
   "codemirror_mode": {
    "name": "ipython",
    "version": 3
   },
   "file_extension": ".py",
   "mimetype": "text/x-python",
   "name": "python",
   "nbconvert_exporter": "python",
   "pygments_lexer": "ipython3",
   "version": "3.8.5"
  }
 },
 "nbformat": 4,
 "nbformat_minor": 4
}
