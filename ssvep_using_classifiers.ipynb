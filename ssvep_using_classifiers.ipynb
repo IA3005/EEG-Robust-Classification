{
 "cells": [
  {
   "cell_type": "code",
   "execution_count": 3,
   "metadata": {},
   "outputs": [],
   "source": [
    "%matplotlib inline"
   ]
  },
  {
   "cell_type": "markdown",
   "metadata": {},
   "source": [
    "\n",
    "# Cross Subject SSVEP\n",
    "\n"
   ]
  },
  {
   "cell_type": "code",
   "execution_count": 4,
   "metadata": {},
   "outputs": [],
   "source": [
    "import warnings\n",
    "\n",
    "import matplotlib.pyplot as plt\n",
    "import pandas as pd\n",
    "from tqdm import tqdm\n",
    "import seaborn as sns\n",
    "import scipy\n",
    "from pyriemann.estimation import Covariances as COVs\n",
    "from estimation import Covariances, mean, scm\n",
    "from classifiers import MDM, TangentSpace\n",
    "\n",
    "from sklearn.linear_model import LogisticRegression\n",
    "from sklearn.pipeline import make_pipeline\n",
    "\n",
    "import moabb\n",
    "from moabb.datasets import SSVEPExo\n",
    "from moabb.evaluations import CrossSubjectEvaluation,CrossSessionEvaluation,WithinSessionEvaluation\n",
    "from moabb.paradigms import SSVEP, FilterBankSSVEP\n",
    "from moabb.pipelines import SSVEP_CCA, ExtendedSSVEPSignal\n",
    "\n",
    "\n",
    "warnings.simplefilter(action=\"ignore\", category=FutureWarning)\n",
    "warnings.simplefilter(action=\"ignore\", category=RuntimeWarning)\n",
    "moabb.set_log_level(\"info\")"
   ]
  },
  {
   "cell_type": "code",
   "execution_count": 5,
   "metadata": {},
   "outputs": [],
   "source": [
    "def huber_prime(x,r):\n",
    "    if x < r:\n",
    "        return 1\n",
    "    else:\n",
    "        return 0\n"
   ]
  },
  {
   "cell_type": "code",
   "execution_count": 6,
   "metadata": {},
   "outputs": [],
   "source": [
    "def split(signal):\n",
    "    n_sessions = signal.shape[0]//32\n",
    "    trains_idx,tests_idx = [],[]\n",
    "    for i in range(n_sessions):\n",
    "        test_idx = list(range(i*32,(i+1)*32))\n",
    "        train_idx=[]\n",
    "        for j in range(signal.shape[0]):\n",
    "            if not (j in test_idx):\n",
    "                train_idx.append(j)\n",
    "        trains_idx.append(train_idx)\n",
    "        tests_idx.append(test_idx)\n",
    "    return trains_idx,tests_idx\n"
   ]
  },
  {
   "cell_type": "code",
   "execution_count": 7,
   "metadata": {},
   "outputs": [],
   "source": [
    "def splitbis(signal):\n",
    "    n_sessions = signal.shape[0]//32\n",
    "    trains_idx,tests_idx = [list(range(0,32*(n_sessions-1)))],[list(range(32*(n_sessions-1),32*n_sessions))]\n",
    "    return trains_idx,tests_idx"
   ]
  },
  {
   "cell_type": "markdown",
   "metadata": {},
   "source": [
    "## Loading dataset\n",
    "\n"
   ]
  },
  {
   "cell_type": "code",
   "execution_count": 8,
   "metadata": {},
   "outputs": [],
   "source": [
    "dataset = SSVEPExo()\n",
    "#dataset.interval = [2,5]\n",
    "interval = dataset.interval\n",
    "#dataset.subject_list = dataset.subject_list[:1]"
   ]
  },
  {
   "cell_type": "code",
   "execution_count": 9,
   "metadata": {},
   "outputs": [
    {
     "name": "stdout",
     "output_type": "stream",
     "text": [
      "[1, 2, 3, 4, 5, 6, 7, 8, 9, 10, 11, 12]\n",
      "[2, 4]\n"
     ]
    }
   ],
   "source": [
    "print(dataset.subject_list)\n",
    "print(interval)"
   ]
  },
  {
   "cell_type": "code",
   "execution_count": 10,
   "metadata": {},
   "outputs": [],
   "source": [
    "records = dataset.get_data()"
   ]
  },
  {
   "cell_type": "markdown",
   "metadata": {},
   "source": [
    "## Choose paradigm\n",
    "\n",
    "\n"
   ]
  },
  {
   "cell_type": "code",
   "execution_count": 11,
   "metadata": {},
   "outputs": [
    {
     "name": "stderr",
     "output_type": "stream",
     "text": [
      "2021-09-01 10:32:15,076 WARNING MainThread moabb.paradigms.ssvep Choosing the first 4 classes from all possible events\n"
     ]
    }
   ],
   "source": [
    "paradigm_fb = FilterBankSSVEP(filters=None, n_classes=4,resample = 128)"
   ]
  },
  {
   "cell_type": "code",
   "execution_count": 12,
   "metadata": {},
   "outputs": [
    {
     "data": {
      "text/plain": [
       "0.0"
      ]
     },
     "execution_count": 12,
     "metadata": {},
     "output_type": "execute_result"
    }
   ],
   "source": [
    "paradigm_fb.tmin"
   ]
  },
  {
   "cell_type": "code",
   "execution_count": 13,
   "metadata": {},
   "outputs": [
    {
     "name": "stdout",
     "output_type": "stream",
     "text": [
      "None\n"
     ]
    }
   ],
   "source": [
    "print(paradigm_fb.tmax)"
   ]
  },
  {
   "cell_type": "markdown",
   "metadata": {},
   "source": [
    "Classes are defined by the frequency of the stimulation, here we use\n",
    "the first two frequencies of the dataset, 13 and 17 Hz.\n",
    "The evaluation function uses a LabelEncoder, transforming them\n",
    "to 0 and 1\n",
    "\n"
   ]
  },
  {
   "cell_type": "code",
   "execution_count": 14,
   "metadata": {},
   "outputs": [
    {
     "data": {
      "text/plain": [
       "{'13': 2, '17': 3, '21': 4, 'rest': 1}"
      ]
     },
     "execution_count": 14,
     "metadata": {},
     "output_type": "execute_result"
    }
   ],
   "source": [
    "freqs = paradigm_fb.used_events(dataset)\n",
    "freqs"
   ]
  },
  {
   "cell_type": "code",
   "execution_count": null,
   "metadata": {},
   "outputs": [],
   "source": [
    "\n"
   ]
  },
  {
   "cell_type": "markdown",
   "metadata": {},
   "source": [
    "## Create pipelines\n",
    "\n"
   ]
  },
  {
   "cell_type": "code",
   "execution_count": 24,
   "metadata": {},
   "outputs": [],
   "source": [
    "pipeline = {}\n",
    "\n",
    "pipeline[\"MDM + scm covs\"] = make_pipeline(\n",
    "    ExtendedSSVEPSignal(),\n",
    "    COVs(estimator=\"scm\"),\n",
    "    MDM()\n",
    ")\n",
    "\n",
    "pipeline[\"MDM + lwf covs\"] = make_pipeline(\n",
    "    ExtendedSSVEPSignal(),\n",
    "    COVs(estimator=\"lwf\"),\n",
    "    MDM()\n",
    ")\n",
    "\n",
    "pipeline[\"MDM + student covs\"] = make_pipeline(\n",
    "    ExtendedSSVEPSignal(),\n",
    "    Covariances(estimator=\"student\"),\n",
    "    MDM()\n",
    ")"
   ]
  },
  {
   "cell_type": "code",
   "execution_count": null,
   "metadata": {},
   "outputs": [],
   "source": [
    "pipeline[\"MDM + huber adapt covs\"] = make_pipeline(\n",
    "    ExtendedSSVEPSignal(),\n",
    "    Covariances(estimator=\"huber adaptive\"),\n",
    "    MDM()\n",
    ")\n",
    "\n",
    "pipeline[\"MDM + huber non adapt covs\"] = make_pipeline(\n",
    "    ExtendedSSVEPSignal(),\n",
    "    Covariances(estimator=\"huber non adaptive\"),\n",
    "    MDM()\n",
    ")\n",
    "\n",
    "pipeline[\"MDM + tyler adapt covs\"] = make_pipeline(\n",
    "    ExtendedSSVEPSignal(),\n",
    "    Covariances(estimator=\"tyler adaptive\"),\n",
    "    MDM()\n",
    ")\n",
    "\n",
    "pipeline[\"MDM + tyler non adapt covs\"] = make_pipeline(\n",
    "    ExtendedSSVEPSignal(),\n",
    "    Covariances(estimator=\"tyler non normalized non adaptive\"),\n",
    "    MDM()\n",
    ")\n",
    "\n",
    "\n",
    "\n"
   ]
  },
  {
   "cell_type": "code",
   "execution_count": 16,
   "metadata": {},
   "outputs": [],
   "source": [
    "X, y, metadata = paradigm_fb.get_data(dataset)"
   ]
  },
  {
   "cell_type": "code",
   "execution_count": 17,
   "metadata": {},
   "outputs": [
    {
     "data": {
      "text/plain": [
       "(960, 8, 256, 3)"
      ]
     },
     "execution_count": 17,
     "metadata": {},
     "output_type": "execute_result"
    }
   ],
   "source": [
    "X.shape"
   ]
  },
  {
   "cell_type": "code",
   "execution_count": 18,
   "metadata": {},
   "outputs": [],
   "source": [
    "dictio={\"rest\":0,\"13\":1,\"21\":2,\"17\":3}\n",
    "import numpy as np\n",
    "y_= [dictio[y[l]] for l in range(len(y))]\n",
    "y =np.asarray(y_)"
   ]
  },
  {
   "cell_type": "code",
   "execution_count": 19,
   "metadata": {},
   "outputs": [],
   "source": [
    "signals = []\n",
    "labels=[]\n",
    "n_sessions=[]\n",
    "n = 0\n",
    "for subject in dataset.subject_list :\n",
    "    n_session = len(records[subject]['session_0'])\n",
    "    n_sessions.append(n_session)\n",
    "    m =32*n_session +n\n",
    "    signals.append(X[n:m])\n",
    "    labels.append(y[n:m])\n",
    "    n=m"
   ]
  },
  {
   "cell_type": "markdown",
   "metadata": {},
   "source": [
    "## Evaluation\n",
    "\n",
    "The evaluation will return a dataframe containing a single AUC score for\n",
    "each subject / session of the dataset, and for each pipeline.\n",
    "\n",
    "Results are saved into the database, so that if you add a new pipeline, it\n",
    "will not run again the evaluation unless a parameter has changed. Results can\n",
    "be overwritten if necessary.\n",
    "\n"
   ]
  },
  {
   "cell_type": "code",
   "execution_count": null,
   "metadata": {},
   "outputs": [
    {
     "name": "stderr",
     "output_type": "stream",
     "text": [
      "\r",
      "  0%|          | 0/12 [00:00<?, ?it/s]"
     ]
    },
    {
     "name": "stdout",
     "output_type": "stream",
     "text": [
      "Pipeline(steps=[('extendedssvepsignal', ExtendedSSVEPSignal()),\n",
      "                ('covariances', Covariances()), ('mdm', MDM())])\n"
     ]
    },
    {
     "name": "stderr",
     "output_type": "stream",
     "text": [
      "100%|██████████| 12/12 [00:19<00:00,  1.62s/it]\n",
      "  0%|          | 0/12 [00:00<?, ?it/s]"
     ]
    },
    {
     "name": "stdout",
     "output_type": "stream",
     "text": [
      "Pipeline(steps=[('extendedssvepsignal', ExtendedSSVEPSignal()),\n",
      "                ('covariances', Covariances(estimator='lwf')), ('mdm', MDM())])\n"
     ]
    },
    {
     "name": "stderr",
     "output_type": "stream",
     "text": [
      "100%|██████████| 12/12 [00:12<00:00,  1.06s/it]\n",
      "  0%|          | 0/12 [00:00<?, ?it/s]"
     ]
    },
    {
     "name": "stdout",
     "output_type": "stream",
     "text": [
      "Pipeline(steps=[('extendedssvepsignal', ExtendedSSVEPSignal()),\n",
      "                ('covariances', Covariances(estimator='student')),\n",
      "                ('mdm', MDM())])\n"
     ]
    },
    {
     "name": "stderr",
     "output_type": "stream",
     "text": [
      " 58%|█████▊    | 7/12 [32:45<30:28, 365.67s/it]"
     ]
    }
   ],
   "source": [
    "results = {\"subject\":[],\"score\":[],\"train samples\":[], \"test samples\":[], \"pipeline\":[]}\n",
    "for k in pipeline.keys():\n",
    "    clf= pipeline[k]\n",
    "    print(clf)\n",
    "    for i in tqdm(range(len(dataset.subject_list))):\n",
    "        accs= []\n",
    "        subject = dataset.subject_list[i]\n",
    "        signal,n_session,label = signals[i],n_sessions[i],labels[i]\n",
    "        trains_idx,tests_idx = split(signal)\n",
    "        for train_idx,test_idx in zip(trains_idx,tests_idx):\n",
    "            X_train,X_test = signal[train_idx],signal[test_idx]\n",
    "            y_train,y_test = label[train_idx],label[test_idx]\n",
    "            clf.fit(X_train,y_train)\n",
    "            preds= clf.predict(X_test)\n",
    "            acc = np.mean(preds==y_test)\n",
    "            accs.append(acc)\n",
    "        results[\"subject\"].append(subject)\n",
    "        results[\"score\"].append(np.mean(accs))\n",
    "        results[\"pipeline\"].append(k)\n",
    "        results[\"train samples\"].append(len(train_idx))\n",
    "        results[\"test samples\"].append(len(test_idx))"
   ]
  },
  {
   "cell_type": "markdown",
   "metadata": {},
   "source": [
    "Filter bank processing, determine automatically the filter from the\n",
    "stimulation frequency values of events.\n",
    "\n"
   ]
  },
  {
   "cell_type": "markdown",
   "metadata": {},
   "source": [
    "## Plot Results\n",
    "\n",
    "Here we plot the results.\n",
    "\n"
   ]
  },
  {
   "cell_type": "code",
   "execution_count": 21,
   "metadata": {},
   "outputs": [
    {
     "data": {
      "text/html": [
       "<div>\n",
       "<style scoped>\n",
       "    .dataframe tbody tr th:only-of-type {\n",
       "        vertical-align: middle;\n",
       "    }\n",
       "\n",
       "    .dataframe tbody tr th {\n",
       "        vertical-align: top;\n",
       "    }\n",
       "\n",
       "    .dataframe thead th {\n",
       "        text-align: right;\n",
       "    }\n",
       "</style>\n",
       "<table border=\"1\" class=\"dataframe\">\n",
       "  <thead>\n",
       "    <tr style=\"text-align: right;\">\n",
       "      <th></th>\n",
       "      <th>subject</th>\n",
       "      <th>score</th>\n",
       "      <th>train samples</th>\n",
       "      <th>test samples</th>\n",
       "      <th>pipeline</th>\n",
       "    </tr>\n",
       "  </thead>\n",
       "  <tbody>\n",
       "    <tr>\n",
       "      <th>0</th>\n",
       "      <td>1</td>\n",
       "      <td>0.437500</td>\n",
       "      <td>32</td>\n",
       "      <td>32</td>\n",
       "      <td>MDM + scm covs</td>\n",
       "    </tr>\n",
       "    <tr>\n",
       "      <th>1</th>\n",
       "      <td>2</td>\n",
       "      <td>0.578125</td>\n",
       "      <td>32</td>\n",
       "      <td>32</td>\n",
       "      <td>MDM + scm covs</td>\n",
       "    </tr>\n",
       "    <tr>\n",
       "      <th>2</th>\n",
       "      <td>3</td>\n",
       "      <td>0.843750</td>\n",
       "      <td>32</td>\n",
       "      <td>32</td>\n",
       "      <td>MDM + scm covs</td>\n",
       "    </tr>\n",
       "    <tr>\n",
       "      <th>3</th>\n",
       "      <td>4</td>\n",
       "      <td>0.625000</td>\n",
       "      <td>32</td>\n",
       "      <td>32</td>\n",
       "      <td>MDM + scm covs</td>\n",
       "    </tr>\n",
       "    <tr>\n",
       "      <th>4</th>\n",
       "      <td>5</td>\n",
       "      <td>0.484375</td>\n",
       "      <td>32</td>\n",
       "      <td>32</td>\n",
       "      <td>MDM + scm covs</td>\n",
       "    </tr>\n",
       "    <tr>\n",
       "      <th>5</th>\n",
       "      <td>6</td>\n",
       "      <td>0.609375</td>\n",
       "      <td>32</td>\n",
       "      <td>32</td>\n",
       "      <td>MDM + scm covs</td>\n",
       "    </tr>\n",
       "    <tr>\n",
       "      <th>6</th>\n",
       "      <td>7</td>\n",
       "      <td>0.645833</td>\n",
       "      <td>64</td>\n",
       "      <td>32</td>\n",
       "      <td>MDM + scm covs</td>\n",
       "    </tr>\n",
       "    <tr>\n",
       "      <th>7</th>\n",
       "      <td>8</td>\n",
       "      <td>0.640625</td>\n",
       "      <td>32</td>\n",
       "      <td>32</td>\n",
       "      <td>MDM + scm covs</td>\n",
       "    </tr>\n",
       "    <tr>\n",
       "      <th>8</th>\n",
       "      <td>9</td>\n",
       "      <td>0.375000</td>\n",
       "      <td>32</td>\n",
       "      <td>32</td>\n",
       "      <td>MDM + scm covs</td>\n",
       "    </tr>\n",
       "    <tr>\n",
       "      <th>9</th>\n",
       "      <td>10</td>\n",
       "      <td>0.468750</td>\n",
       "      <td>96</td>\n",
       "      <td>32</td>\n",
       "      <td>MDM + scm covs</td>\n",
       "    </tr>\n",
       "    <tr>\n",
       "      <th>10</th>\n",
       "      <td>11</td>\n",
       "      <td>0.437500</td>\n",
       "      <td>32</td>\n",
       "      <td>32</td>\n",
       "      <td>MDM + scm covs</td>\n",
       "    </tr>\n",
       "    <tr>\n",
       "      <th>11</th>\n",
       "      <td>12</td>\n",
       "      <td>0.825000</td>\n",
       "      <td>128</td>\n",
       "      <td>32</td>\n",
       "      <td>MDM + scm covs</td>\n",
       "    </tr>\n",
       "    <tr>\n",
       "      <th>12</th>\n",
       "      <td>1</td>\n",
       "      <td>0.578125</td>\n",
       "      <td>32</td>\n",
       "      <td>32</td>\n",
       "      <td>MDM + lwf covs</td>\n",
       "    </tr>\n",
       "    <tr>\n",
       "      <th>13</th>\n",
       "      <td>2</td>\n",
       "      <td>0.640625</td>\n",
       "      <td>32</td>\n",
       "      <td>32</td>\n",
       "      <td>MDM + lwf covs</td>\n",
       "    </tr>\n",
       "    <tr>\n",
       "      <th>14</th>\n",
       "      <td>3</td>\n",
       "      <td>0.718750</td>\n",
       "      <td>32</td>\n",
       "      <td>32</td>\n",
       "      <td>MDM + lwf covs</td>\n",
       "    </tr>\n",
       "    <tr>\n",
       "      <th>15</th>\n",
       "      <td>4</td>\n",
       "      <td>0.718750</td>\n",
       "      <td>32</td>\n",
       "      <td>32</td>\n",
       "      <td>MDM + lwf covs</td>\n",
       "    </tr>\n",
       "    <tr>\n",
       "      <th>16</th>\n",
       "      <td>5</td>\n",
       "      <td>0.578125</td>\n",
       "      <td>32</td>\n",
       "      <td>32</td>\n",
       "      <td>MDM + lwf covs</td>\n",
       "    </tr>\n",
       "    <tr>\n",
       "      <th>17</th>\n",
       "      <td>6</td>\n",
       "      <td>0.781250</td>\n",
       "      <td>32</td>\n",
       "      <td>32</td>\n",
       "      <td>MDM + lwf covs</td>\n",
       "    </tr>\n",
       "    <tr>\n",
       "      <th>18</th>\n",
       "      <td>7</td>\n",
       "      <td>0.760417</td>\n",
       "      <td>64</td>\n",
       "      <td>32</td>\n",
       "      <td>MDM + lwf covs</td>\n",
       "    </tr>\n",
       "    <tr>\n",
       "      <th>19</th>\n",
       "      <td>8</td>\n",
       "      <td>0.734375</td>\n",
       "      <td>32</td>\n",
       "      <td>32</td>\n",
       "      <td>MDM + lwf covs</td>\n",
       "    </tr>\n",
       "    <tr>\n",
       "      <th>20</th>\n",
       "      <td>9</td>\n",
       "      <td>0.546875</td>\n",
       "      <td>32</td>\n",
       "      <td>32</td>\n",
       "      <td>MDM + lwf covs</td>\n",
       "    </tr>\n",
       "    <tr>\n",
       "      <th>21</th>\n",
       "      <td>10</td>\n",
       "      <td>0.531250</td>\n",
       "      <td>96</td>\n",
       "      <td>32</td>\n",
       "      <td>MDM + lwf covs</td>\n",
       "    </tr>\n",
       "    <tr>\n",
       "      <th>22</th>\n",
       "      <td>11</td>\n",
       "      <td>0.390625</td>\n",
       "      <td>32</td>\n",
       "      <td>32</td>\n",
       "      <td>MDM + lwf covs</td>\n",
       "    </tr>\n",
       "    <tr>\n",
       "      <th>23</th>\n",
       "      <td>12</td>\n",
       "      <td>0.893750</td>\n",
       "      <td>128</td>\n",
       "      <td>32</td>\n",
       "      <td>MDM + lwf covs</td>\n",
       "    </tr>\n",
       "  </tbody>\n",
       "</table>\n",
       "</div>"
      ],
      "text/plain": [
       "    subject     score  train samples  test samples        pipeline\n",
       "0         1  0.437500             32            32  MDM + scm covs\n",
       "1         2  0.578125             32            32  MDM + scm covs\n",
       "2         3  0.843750             32            32  MDM + scm covs\n",
       "3         4  0.625000             32            32  MDM + scm covs\n",
       "4         5  0.484375             32            32  MDM + scm covs\n",
       "5         6  0.609375             32            32  MDM + scm covs\n",
       "6         7  0.645833             64            32  MDM + scm covs\n",
       "7         8  0.640625             32            32  MDM + scm covs\n",
       "8         9  0.375000             32            32  MDM + scm covs\n",
       "9        10  0.468750             96            32  MDM + scm covs\n",
       "10       11  0.437500             32            32  MDM + scm covs\n",
       "11       12  0.825000            128            32  MDM + scm covs\n",
       "12        1  0.578125             32            32  MDM + lwf covs\n",
       "13        2  0.640625             32            32  MDM + lwf covs\n",
       "14        3  0.718750             32            32  MDM + lwf covs\n",
       "15        4  0.718750             32            32  MDM + lwf covs\n",
       "16        5  0.578125             32            32  MDM + lwf covs\n",
       "17        6  0.781250             32            32  MDM + lwf covs\n",
       "18        7  0.760417             64            32  MDM + lwf covs\n",
       "19        8  0.734375             32            32  MDM + lwf covs\n",
       "20        9  0.546875             32            32  MDM + lwf covs\n",
       "21       10  0.531250             96            32  MDM + lwf covs\n",
       "22       11  0.390625             32            32  MDM + lwf covs\n",
       "23       12  0.893750            128            32  MDM + lwf covs"
      ]
     },
     "execution_count": 21,
     "metadata": {},
     "output_type": "execute_result"
    }
   ],
   "source": [
    "df = pd.DataFrame(results)\n",
    "df"
   ]
  },
  {
   "cell_type": "code",
   "execution_count": 22,
   "metadata": {},
   "outputs": [
    {
     "data": {
      "image/png": "[encoded data removed]",
      "text/plain": [
       "<Figure size 1440x720 with 1 Axes>"
      ]
     },
     "metadata": {},
     "output_type": "display_data"
    }
   ],
   "source": [
    "plt.figure(figsize=(20,10))\n",
    "sns.barplot(data=df, y=\"score\", x=\"subject\", hue=\"pipeline\")\n",
    "\n",
    "plt.show()"
   ]
  },
  {
   "cell_type": "code",
   "execution_count": 23,
   "metadata": {},
   "outputs": [
    {
     "name": "stdout",
     "output_type": "stream",
     "text": [
      "MDM + scm covs = 0.5809027777777778\n",
      "MDM + lwf covs = 0.6560763888888889\n"
     ]
    }
   ],
   "source": [
    "for m in range(len(list(pipeline.keys()))):\n",
    "    mean_  = 0\n",
    "    for i in range(12):\n",
    "        mean_ += df.loc[i+12*m].at['score']\n",
    "    print(df.loc[12*m].at['pipeline'], \"=\",mean_/12)"
   ]
  },
  {
   "cell_type": "code",
   "execution_count": null,
   "metadata": {},
   "outputs": [],
   "source": []
  },
  {
   "cell_type": "markdown",
   "metadata": {},
   "source": [
    "## Cross session evaluation"
   ]
  },
  {
   "cell_type": "code",
   "execution_count": null,
   "metadata": {},
   "outputs": [],
   "source": [
    "#cross_session\n",
    "\n",
    "evaluation1 = WithinSessionEvaluation(\n",
    "    paradigm=paradigm_fb, datasets=dataset, overwrite=False\n",
    ")\n",
    "results1 = evaluation1.process(pipeline)\n",
    "\n",
    "results1"
   ]
  },
  {
   "cell_type": "code",
   "execution_count": null,
   "metadata": {},
   "outputs": [],
   "source": [
    "plt.figure(figsize=(20,10))\n",
    "sns.barplot(data=results1, y=\"score\", x=\"subject\", hue=\"pipeline\")\n",
    "\n",
    "plt.show()"
   ]
  },
  {
   "cell_type": "code",
   "execution_count": null,
   "metadata": {},
   "outputs": [],
   "source": [
    "df1 = pd.DataFrame(results1)\n",
    "df1"
   ]
  },
  {
   "cell_type": "code",
   "execution_count": null,
   "metadata": {},
   "outputs": [],
   "source": [
    "for m in range(len(list(pipeline.keys()))):\n",
    "    mean_  = 0\n",
    "    for i in range(12):\n",
    "        mean_ += df1.loc[i+12*m].at['score']\n",
    "    print(df1.loc[12*m].at['pipeline'], \"=\",mean_/12)"
   ]
  },
  {
   "cell_type": "code",
   "execution_count": null,
   "metadata": {},
   "outputs": [],
   "source": []
  }
 ],
 "metadata": {
  "kernelspec": {
   "display_name": "Python 3",
   "language": "python",
   "name": "python3"
  },
  "language_info": {
   "codemirror_mode": {
    "name": "ipython",
    "version": 3
   },
   "file_extension": ".py",
   "mimetype": "text/x-python",
   "name": "python",
   "nbconvert_exporter": "python",
   "pygments_lexer": "ipython3",
   "version": "3.8.5"
  }
 },
 "nbformat": 4,
 "nbformat_minor": 1
}
